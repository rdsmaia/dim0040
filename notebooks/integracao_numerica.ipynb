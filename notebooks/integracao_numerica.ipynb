{
 "cells": [
  {
   "cell_type": "code",
   "execution_count": 1,
   "id": "bcc1ce35",
   "metadata": {},
   "outputs": [],
   "source": [
    "import sympy as sy\n",
    "import numpy as np\n",
    "from sympy import *"
   ]
  },
  {
   "cell_type": "code",
   "execution_count": 51,
   "id": "66622507",
   "metadata": {},
   "outputs": [],
   "source": [
    "def regra_trapezio(a, b, n, fx):\n",
    "    '''\n",
    "    Entrada:\n",
    "        a - limite inferior de integração.\n",
    "        b - limite superior de integração.\n",
    "        f - função a ser integrada.\n",
    "        n - número de pontos (intervalos) de integração.\n",
    "    Saída:\n",
    "        I - integral.\n",
    "    '''\n",
    "    f = lambdify(x, fx)\n",
    "    \n",
    "    assert n % 2 == 0, 'n deve ser par!'\n",
    "    # intervalo de integração\n",
    "    h = (b-a)/n\n",
    " \n",
    "    # valor inicial da integral\n",
    "    I = 0.5* ( f(a) + f(b) )\n",
    "    \n",
    "    # cálculo dos demais termos\n",
    "    for i in range(1,n):\n",
    "        xi = a + i * h\n",
    "        I += f(xi)\n",
    "    \n",
    "    # valor final da integração\n",
    "    I *= h\n",
    "    \n",
    "    return(I)"
   ]
  },
  {
   "cell_type": "code",
   "execution_count": 46,
   "id": "7b832f04",
   "metadata": {},
   "outputs": [],
   "source": [
    "# definir símbolo\n",
    "x = sy.Symbol(\"x\")"
   ]
  },
  {
   "cell_type": "code",
   "execution_count": 48,
   "id": "81132837",
   "metadata": {},
   "outputs": [],
   "source": [
    "fx = sy.exp(x) * sy.cos(x)"
   ]
  },
  {
   "cell_type": "code",
   "execution_count": 49,
   "id": "8b10a518",
   "metadata": {},
   "outputs": [
    {
     "name": "stdout",
     "output_type": "stream",
     "text": [
      "O valor da integral de exp(x)*cos(x) entre 0 e 1.2 é 1.64877442734726\n"
     ]
    }
   ],
   "source": [
    "a = 0\n",
    "b = 1.2\n",
    "I1 = sy.integrate(fx, (x, a, b))\n",
    "print(f'O valor da integral de {fx} entre {a} e {b} é {I1}')"
   ]
  },
  {
   "cell_type": "code",
   "execution_count": 53,
   "id": "57074519",
   "metadata": {},
   "outputs": [
    {
     "name": "stdout",
     "output_type": "stream",
     "text": [
      "O valor da integral de exp(x)*cos(x) entre 0 e 1.2 é 1.6479071234880798\n"
     ]
    }
   ],
   "source": [
    "a = 0\n",
    "b = 1.2\n",
    "n = 20\n",
    "I2 = regra_trapezio(a, b, n, fx)\n",
    "print(f'O valor da integral de {fx} entre {a} e {b} é {I2}')"
   ]
  },
  {
   "cell_type": "code",
   "execution_count": null,
   "id": "4667974a",
   "metadata": {},
   "outputs": [],
   "source": []
  }
 ],
 "metadata": {
  "kernelspec": {
   "display_name": "Python 3 (ipykernel)",
   "language": "python",
   "name": "python3"
  },
  "language_info": {
   "codemirror_mode": {
    "name": "ipython",
    "version": 3
   },
   "file_extension": ".py",
   "mimetype": "text/x-python",
   "name": "python",
   "nbconvert_exporter": "python",
   "pygments_lexer": "ipython3",
   "version": "3.9.16"
  }
 },
 "nbformat": 4,
 "nbformat_minor": 5
}
