{
 "cells": [
  {
   "cell_type": "code",
   "execution_count": 93,
   "id": "840a5113",
   "metadata": {},
   "outputs": [],
   "source": [
    "import numpy as np"
   ]
  },
  {
   "cell_type": "code",
   "execution_count": 118,
   "id": "70b9b866",
   "metadata": {},
   "outputs": [],
   "source": [
    "def separa_numero(x):\n",
    "    x_str = str(x)\n",
    "    if '.' in x_str:\n",
    "        x_int, x_frac = x_str.split('.')\n",
    "    else:\n",
    "        x_int = x_str\n",
    "        x_frac = '0'\n",
    "    return x_int, x_frac\n",
    "\n",
    "def beta2dec(x, beta):\n",
    "    '''\n",
    "    Transforma um número da base beta para a base 10.\n",
    "\n",
    "    Entradas:\n",
    "        x - número a ser convertido.\n",
    "        beta - base do número.\n",
    "    Saída:\n",
    "        y = número em decimal.\n",
    "    '''\n",
    "    x_int, x_frac = separa_numero(x)\n",
    "    x_int = x_int[::-1]\n",
    "    y = 0\n",
    "    i = 0\n",
    "    \n",
    "    # parte inteira\n",
    "    for xi in x_int:\n",
    "        assert int(xi) < beta, f'Erro: os dígitos devem ser menores que a base.'\n",
    "        y += int(xi) * beta**i\n",
    "        i += 1\n",
    "        \n",
    "    # parte fracionária\n",
    "    i = -1\n",
    "    for xi in x_frac:\n",
    "        assert int(xi) < beta, f'Erro: os dígitos devem ser menores que a base.'\n",
    "        y += int(xi) * beta**i\n",
    "        i -= 1\n",
    "    return y\n",
    "\n",
    "def dec2beta(x, beta, max_precision=10):\n",
    "    '''\n",
    "    Transforma um número da base 10 para a base beta.\n",
    "\n",
    "    Entradas:\n",
    "        x - número a ser convertido.\n",
    "        beta - base do número de saída.\n",
    "    Saída:\n",
    "        y = número na base beta.\n",
    "    '''\n",
    "    x_int, x_frac = separa_numero(x)\n",
    "\n",
    "    # parte inteira: divisões sucessivas\n",
    "    y_int = ''\n",
    "    q1 = int(x_int)\n",
    "    while 1:\n",
    "        q2 = int(q1 / beta)\n",
    "        r = q1 -  q2 * beta\n",
    "        y_int += str(r)\n",
    "        if q2 < beta:\n",
    "            y_int += str(q2)\n",
    "            y_int = y_int[::-1]\n",
    "            break\n",
    "        else:\n",
    "            q1 = q2\n",
    "\n",
    "    # parte fracionária: multiplicações sucessivas\n",
    "    y_frac = ''\n",
    "    m1 = float(x_frac)\n",
    "    t = 1\n",
    "    while t < max_precision or m1 != 0.0:\n",
    "        m2 = m1 * beta\n",
    "        y_frac += str(int(m2))\n",
    "        m1 = m2 - int(m2)\n",
    "        t += 1\n",
    "    y = float(y_int+'.'+y_frac)\n",
    "    return y\n"
   ]
  },
  {
   "cell_type": "code",
   "execution_count": 119,
   "id": "ee9c9d3d",
   "metadata": {},
   "outputs": [
    {
     "name": "stdout",
     "output_type": "stream",
     "text": [
      "8.0\n"
     ]
    }
   ],
   "source": [
    "y = beta2dec(22, 3)\n",
    "print(y)"
   ]
  },
  {
   "cell_type": "code",
   "execution_count": 122,
   "id": "61081c8e",
   "metadata": {},
   "outputs": [
    {
     "name": "stdout",
     "output_type": "stream",
     "text": [
      "10200.0\n"
     ]
    }
   ],
   "source": [
    "y = dec2beta(99, 3)\n",
    "print(y)"
   ]
  },
  {
   "cell_type": "code",
   "execution_count": null,
   "id": "7b550c81",
   "metadata": {},
   "outputs": [],
   "source": []
  }
 ],
 "metadata": {
  "kernelspec": {
   "display_name": "Python 3 (ipykernel)",
   "language": "python",
   "name": "python3"
  },
  "language_info": {
   "codemirror_mode": {
    "name": "ipython",
    "version": 3
   },
   "file_extension": ".py",
   "mimetype": "text/x-python",
   "name": "python",
   "nbconvert_exporter": "python",
   "pygments_lexer": "ipython3",
   "version": "3.9.16"
  }
 },
 "nbformat": 4,
 "nbformat_minor": 5
}
