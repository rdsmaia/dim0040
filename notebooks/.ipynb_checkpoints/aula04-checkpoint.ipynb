{
 "cells": [
  {
   "cell_type": "code",
   "execution_count": 1,
   "id": "230d6f50",
   "metadata": {},
   "outputs": [],
   "source": [
    "# biblioteca\n",
    "import numpy as np"
   ]
  },
  {
   "cell_type": "code",
   "execution_count": 2,
   "id": "b4556ef5",
   "metadata": {},
   "outputs": [
    {
     "name": "stdout",
     "output_type": "stream",
     "text": [
      "x=[812 197 358 912 787 415 305 506 546 444 513 869 191 636 899 281 442  31\n",
      " 147 323 754 207 446 841 834 949 372 609  48 318 300 681 128 347 774  75\n",
      "  96 612 524 761 255 241 688 157 999 758 119 403 658 645]\n"
     ]
    }
   ],
   "source": [
    "# cria vetor aleatório com números inteiros, com 50 elementos, dentre 0 e 1000\n",
    "x = np.random.randint(0,1000,size=(50,))\n",
    "print(f'x={x}')"
   ]
  },
  {
   "cell_type": "markdown",
   "id": "1cd8f5ee",
   "metadata": {},
   "source": [
    "# Códigos para achar máximo e mínimo"
   ]
  },
  {
   "cell_type": "code",
   "execution_count": 39,
   "id": "cc6a18ef",
   "metadata": {},
   "outputs": [],
   "source": [
    "# achar valor mínimo\n",
    "def find_min(x, N):\n",
    "    '''Função para achar o valor mínimo.\n",
    "        Entrada:\n",
    "            x : vetor de entrada\n",
    "            N : número de elementos de x\n",
    "        Saída:\n",
    "            min : elemento de valor mínimo em x.'''\n",
    "    min = 1.9E100\n",
    "    for xi in x:\n",
    "        if xi < min:\n",
    "            min = xi\n",
    "    return min"
   ]
  },
  {
   "cell_type": "code",
   "execution_count": 40,
   "id": "ad50ccd2",
   "metadata": {},
   "outputs": [],
   "source": [
    "# achar valor máximo\n",
    "def find_max(x, N):\n",
    "    '''Função para achar o valor máximo.\n",
    "        Entrada:\n",
    "            x : vetor de entrada\n",
    "            N : número de elementos de x\n",
    "        Saída:\n",
    "            min : elemento de valor máximo em x.'''\n",
    "    max = -1.9E100\n",
    "    for xi in x:\n",
    "        if xi > max:\n",
    "            max = xi\n",
    "    return max"
   ]
  },
  {
   "cell_type": "markdown",
   "id": "f19c7ca4",
   "metadata": {},
   "source": [
    "# execução das funções"
   ]
  },
  {
   "cell_type": "code",
   "execution_count": 43,
   "id": "111930f7",
   "metadata": {},
   "outputs": [
    {
     "name": "stdout",
     "output_type": "stream",
     "text": [
      "O valor mínimo de x é 1\n"
     ]
    }
   ],
   "source": [
    "# valor mínimo\n",
    "print(f'O valor mínimo de x é {find_min(x, 50)}')"
   ]
  },
  {
   "cell_type": "code",
   "execution_count": 44,
   "id": "dbab5d81",
   "metadata": {},
   "outputs": [
    {
     "name": "stdout",
     "output_type": "stream",
     "text": [
      "O valor mánimo de x é 999\n"
     ]
    }
   ],
   "source": [
    "# valor máximo\n",
    "print(f'O valor mánimo de x é {find_max(x, 50)}')"
   ]
  },
  {
   "cell_type": "markdown",
   "id": "69164047",
   "metadata": {},
   "source": [
    "# ordenar uma lista de números"
   ]
  },
  {
   "cell_type": "code",
   "execution_count": 46,
   "id": "09966635",
   "metadata": {},
   "outputs": [],
   "source": [
    "# função para ordenar\n",
    "def sort_array(x, N):\n",
    "    '''Função para ordenar x.\n",
    "        Entrada:\n",
    "            x : vetor de entrada\n",
    "            N : número de elementos de x\n",
    "        Saída:\n",
    "            y : vetor ordenado.'''\n",
    "    y = np.array(x)\n",
    "    for i in range(N):\n",
    "        for j in range(i,N):\n",
    "            if y[j] < y[i]:\n",
    "                aux = y[i]\n",
    "                y[i] = y[j]\n",
    "                y[j] = aux\n",
    "    return y"
   ]
  },
  {
   "cell_type": "code",
   "execution_count": 47,
   "id": "e1b2ee42",
   "metadata": {},
   "outputs": [
    {
     "name": "stdout",
     "output_type": "stream",
     "text": [
      "O vetor x ordenado é [  1   3   3   6  12  24  31  48  49  75  96  98 119 128 147 157 191 197\n",
      " 207 241 255 281 300 318 323 347 372 403 442 444 446 513 524 609 612 636\n",
      " 645 658 681 688 754 758 761 774 834 841 869 899 949 999]\n"
     ]
    }
   ],
   "source": [
    "# execução\n",
    "print(f'O vetor x ordenado é {sort_array(x, 50)}')"
   ]
  },
  {
   "cell_type": "markdown",
   "id": "a4b43101",
   "metadata": {},
   "source": [
    "# cálculo de raiz quadrada usando o método de Newton"
   ]
  },
  {
   "cell_type": "code",
   "execution_count": 51,
   "id": "94f8ef1b",
   "metadata": {},
   "outputs": [],
   "source": [
    "# implementação da função\n",
    "def raiz_quadrada_newton(a, x0=1, varepsilon=0.001, max_iter=100):\n",
    "    '''\n",
    "    Calcular a raiz quadrada de a.\n",
    "    \n",
    "    Entrada:\n",
    "        a : valor no qual devemos calcular a raiz quadrada.\n",
    "        x0 : valor inicial.\n",
    "        varepsilon : tolerância.\n",
    "        max_iter : número máximo de iterações.\n",
    "        \n",
    "    Saída:\n",
    "        y : raiz quadrada de a.\n",
    "    '''\n",
    "    epsilon = 1.0E100\n",
    "    x_atual = x0\n",
    "    k = 0\n",
    "    while epsilon > varepsilon and k < max_iter:\n",
    "        x_novo = (x_atual + a/x_atual) * 0.5\n",
    "        epsilon = np.abs(x_novo-x_atual)\n",
    "        k = k + 1\n",
    "        x_atual = x_novo\n",
    "        print(f'iteração: {k},\\t x={x_atual},\\terro={epsilon}')\n",
    "    y = x_atual\n",
    "    return y\n"
   ]
  },
  {
   "cell_type": "code",
   "execution_count": 52,
   "id": "d4144026",
   "metadata": {},
   "outputs": [
    {
     "name": "stdout",
     "output_type": "stream",
     "text": [
      "iteração: 1,\t x=25.0,\terro=24.0\n",
      "iteração: 2,\t x=13.48,\terro=11.52\n",
      "iteração: 3,\t x=8.557507418397627,\terro=4.9224925816023735\n",
      "iteração: 4,\t x=7.141736912383411,\terro=1.4157705060142156\n",
      "iteração: 5,\t x=7.001406475243939,\terro=0.14033043713947269\n",
      "iteração: 6,\t x=7.000000141269659,\terro=0.0014063339742795833\n",
      "iteração: 7,\t x=7.000000000000002,\terro=1.4126965730554275e-07\n",
      "\n",
      "A raiz quadrada de 49 é 7.000000000000002\n"
     ]
    }
   ],
   "source": [
    "# teste\n",
    "a = 49\n",
    "print(f'\\nA raiz quadrada de {a} é {raiz_quadrada(a)}')"
   ]
  },
  {
   "cell_type": "code",
   "execution_count": null,
   "id": "7002e4f8",
   "metadata": {},
   "outputs": [],
   "source": []
  }
 ],
 "metadata": {
  "kernelspec": {
   "display_name": "Python 3 (ipykernel)",
   "language": "python",
   "name": "python3"
  },
  "language_info": {
   "codemirror_mode": {
    "name": "ipython",
    "version": 3
   },
   "file_extension": ".py",
   "mimetype": "text/x-python",
   "name": "python",
   "nbconvert_exporter": "python",
   "pygments_lexer": "ipython3",
   "version": "3.9.16"
  }
 },
 "nbformat": 4,
 "nbformat_minor": 5
}
