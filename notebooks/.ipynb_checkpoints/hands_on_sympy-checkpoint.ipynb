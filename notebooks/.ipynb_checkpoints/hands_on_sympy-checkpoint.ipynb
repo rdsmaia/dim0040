{
 "cells": [
  {
   "cell_type": "code",
   "execution_count": 1,
   "id": "f74b1916",
   "metadata": {},
   "outputs": [],
   "source": [
    "# importa bibliotecas\n",
    "import sympy"
   ]
  },
  {
   "cell_type": "code",
   "execution_count": 3,
   "id": "5db78e35",
   "metadata": {},
   "outputs": [],
   "source": [
    "# Definição de símbolos\n",
    "x = sympy.Symbol(\"x\")\n",
    "y = sympy.Symbol(\"y\")"
   ]
  },
  {
   "cell_type": "code",
   "execution_count": 5,
   "id": "cf26bf71",
   "metadata": {},
   "outputs": [
    {
     "name": "stdout",
     "output_type": "stream",
     "text": [
      "f(x,y)=x**2 + x*y + sin(2*y)\n"
     ]
    }
   ],
   "source": [
    "# Função\n",
    "f = x * y + x ** 2 + sympy.sin(2 * y)\n",
    "print(f'f(x,y)={f}')"
   ]
  },
  {
   "cell_type": "code",
   "execution_count": 6,
   "id": "2d452875",
   "metadata": {},
   "outputs": [
    {
     "name": "stdout",
     "output_type": "stream",
     "text": [
      "O limite de f(x,y)=x**2 + x*y + sin(2*y) quando x->0 é L=sin(2*y)\n",
      "O limite de f(x,y)=x**2 + x*y + sin(2*y) quando y->0 é L=x**2\n"
     ]
    }
   ],
   "source": [
    "# limite quando x -> 0 e quando y -> 0\n",
    "L = sympy.limit(f,x,0)\n",
    "print(f'O limite de f(x,y)={f} quando x->0 é L={L}')\n",
    "L = sympy.limit(f,y,0)\n",
    "print(f'O limite de f(x,y)={f} quando y->0 é L={L}')"
   ]
  },
  {
   "cell_type": "code",
   "execution_count": 7,
   "id": "aa41f9e9",
   "metadata": {},
   "outputs": [
    {
     "name": "stdout",
     "output_type": "stream",
     "text": [
      "A derivada de f(x,y)=x**2 + x*y + sin(2*y) com respeito a x é 2*x + y\n",
      "A derivada de f(x,y)=x**2 + x*y + sin(2*y) com respeito a y é x + 2*cos(2*y)\n"
     ]
    }
   ],
   "source": [
    "# Derivada com respeito a x\n",
    "df_dx = sympy.diff(f, x)\n",
    "print(f'A derivada de f(x,y)={f} com respeito a x é {df_dx}')\n",
    "# Derivada com respeito a y\n",
    "df_dy = sympy.diff(f, y)\n",
    "print(f'A derivada de f(x,y)={f} com respeito a y é {df_dy}')"
   ]
  },
  {
   "cell_type": "code",
   "execution_count": 10,
   "id": "c2de9db1",
   "metadata": {},
   "outputs": [
    {
     "name": "stdout",
     "output_type": "stream",
     "text": [
      "A segunda derivada de f(x,y)=x**2 + x*y + sin(2*y) com respeito a x e y é 1\n"
     ]
    }
   ],
   "source": [
    "# Derivada segunda\n",
    "d2f_dxdy = sympy.diff(df_dy, x)\n",
    "print(f'A segunda derivada de f(x,y)={f} com respeito a x e y é {d2f_dxdy}')"
   ]
  },
  {
   "cell_type": "code",
   "execution_count": 13,
   "id": "a4cc18c7",
   "metadata": {},
   "outputs": [
    {
     "name": "stdout",
     "output_type": "stream",
     "text": [
      "A integral de f(x,y) com respeito a x é: x**3/3 + x**2*y/2 + x*sin(2*y)\n",
      "A integral de f(x,y) com respeito a y é: x**2*y + x*y**2/2 - cos(2*y)/2\n"
     ]
    }
   ],
   "source": [
    "# Integral de f(x,y) com respeito a x\n",
    "F = sympy.integrate(f, x)\n",
    "print(f'A integral de f(x,y) com respeito a x é: {F}')\n",
    "# Integral de f(x,y) com respeito a y\n",
    "F = sympy.integrate(f, y)\n",
    "print(f'A integral de f(x,y) com respeito a y é: {F}')"
   ]
  },
  {
   "cell_type": "code",
   "execution_count": 14,
   "id": "2498aa0d",
   "metadata": {},
   "outputs": [
    {
     "name": "stdout",
     "output_type": "stream",
     "text": [
      "Integral definida de f(x,y) com respeito a x no intervalo [0,2] é: 2*y + 2*sin(2*y) + 8/3\n",
      "Integral definida de f(x,y) com respeito a y no intervalo [0,0.5] é: 0.5*x**2 + 0.125*x + 0.22984884706593\n"
     ]
    }
   ],
   "source": [
    "# Integral definida de f(x,y) com respeito a x no intervalo [0,2]\n",
    "F = sympy.integrate(f, (x, 0, 2))\n",
    "print(f'Integral definida de f(x,y) com respeito a x no intervalo [0,2] é: {F}')\n",
    "F = sympy.integrate(f, (y, 0, 0.5))\n",
    "print(f'Integral definida de f(x,y) com respeito a y no intervalo [0,0.5] é: {F}')"
   ]
  },
  {
   "cell_type": "code",
   "execution_count": null,
   "id": "d596a5aa",
   "metadata": {},
   "outputs": [],
   "source": []
  }
 ],
 "metadata": {
  "kernelspec": {
   "display_name": "Python 3 (ipykernel)",
   "language": "python",
   "name": "python3"
  },
  "language_info": {
   "codemirror_mode": {
    "name": "ipython",
    "version": 3
   },
   "file_extension": ".py",
   "mimetype": "text/x-python",
   "name": "python",
   "nbconvert_exporter": "python",
   "pygments_lexer": "ipython3",
   "version": "3.9.16"
  }
 },
 "nbformat": 4,
 "nbformat_minor": 5
}
