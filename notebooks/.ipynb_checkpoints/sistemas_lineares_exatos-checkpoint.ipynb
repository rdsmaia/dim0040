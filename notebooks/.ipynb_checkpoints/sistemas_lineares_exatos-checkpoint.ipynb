{
 "cells": [
  {
   "cell_type": "code",
   "execution_count": 1,
   "id": "8f47a89c",
   "metadata": {},
   "outputs": [],
   "source": [
    "import numpy as np\n",
    "from scipy import linalg"
   ]
  },
  {
   "cell_type": "markdown",
   "id": "91f97a72",
   "metadata": {},
   "source": [
    "# Funçoes para a solução de sistemas lineares $Ax=b$"
   ]
  },
  {
   "cell_type": "code",
   "execution_count": 2,
   "id": "0aeb72c4",
   "metadata": {},
   "outputs": [],
   "source": [
    "def lsolve(A, b):\n",
    "    '''\n",
    "    Resolução de sistemas lineares usando inversão de matrizes.\n",
    "    \n",
    "    Entrada:\n",
    "        A - matriz de coeficientes\n",
    "        b - vetor de termos independentes\n",
    "    Saída:\n",
    "        x - vetor de incógnitas.\n",
    "    '''\n",
    "    det_A = linalg.det(A)\n",
    "    assert det_A != 0, 'O determinante de A é zero.:('\n",
    "    A_inv = linalg.inv(A)\n",
    "    x = A_inv @ b\n",
    "    return x\n",
    "\n",
    "def lsolve_triang_inf(A, b):\n",
    "    '''\n",
    "    Resolve sistemas lineares triangulares inferiores.\n",
    "    \n",
    "    Entrada:\n",
    "        A - matriz de coeficientes\n",
    "        b - vetor de termos independentes\n",
    "    Saída:\n",
    "        x - vetor de incógnitas.\n",
    "    '''\n",
    "    n = b.shape[0]\n",
    "    x = np.empty(b.shape)\n",
    "    x[0] = b[0] / A[0,0]\n",
    "    for i in range(1,n):\n",
    "        soma = 0\n",
    "        for j in range(i):\n",
    "            soma = soma + A[i,j]*x[j]\n",
    "        x[i] = (b[i] - soma) / A[i,i]\n",
    "    return x\n",
    "\n",
    "def lsolve_triang_sup(A, b):\n",
    "    '''\n",
    "    Resolve sistemas lineares superiores.\n",
    "    \n",
    "    Entrada:\n",
    "        A - matriz de coeficientes\n",
    "        b - vetor de termos independentes\n",
    "    Saída:\n",
    "        x - vetor de incógnitas.\n",
    "    '''\n",
    "    n = b.shape[0]\n",
    "    x = np.empty(b.shape)\n",
    "    x[-1] = b[-1] / A[-1,-1]\n",
    "    for i in range(n-2,-1,-1):\n",
    "        soma = 0\n",
    "        for j in range(i+1,n):\n",
    "            soma = soma + A[i,j]*x[j]\n",
    "        x[i] = (b[i] - soma) / A[i,i]\n",
    "    return x\n",
    "\n",
    "def decomp_lu(A):\n",
    "    '''\n",
    "    Decompor uma matriz quadrada A como um produto de duas matrizes\n",
    "    triangulares.\n",
    "    \n",
    "        A = LU\n",
    "    \n",
    "    Entrada:\n",
    "        A - matriz quadrada a ser decomposta.\n",
    "    \n",
    "    Saída:\n",
    "        L - matriz triangular inferior.\n",
    "        U - matriz triangular superior.\n",
    "    '''\n",
    "    assert len(A.shape) == 2, 'Por favor entre com uma matriz (2D)'\n",
    "    assert A.shape[0] == A.shape[1], 'A matriz deve ser quadrada.'\n",
    "    \n",
    "    # ordem de A\n",
    "    n = A.shape[0]\n",
    "    \n",
    "    # inicialização\n",
    "    L = np.eye(n)\n",
    "    U = np.zeros(A.shape)\n",
    "    \n",
    "    # loop principal\n",
    "    for i in range(n):\n",
    "        for j in range(n):\n",
    "            if i <= j:\n",
    "                soma = 0\n",
    "                for k in range(i):\n",
    "                    soma += L[i,k] * U[k,j]\n",
    "                U[i,j] = A[i,j] - soma\n",
    "            else:\n",
    "                soma = 0\n",
    "                for k in range(j):\n",
    "                    soma += L[i,k] * U[k,j]\n",
    "                L[i,j] = (A[i,j] - soma) / U[j,j]    \n",
    "    return L, U\n",
    "\n",
    "def lsolve_lu(A, b):\n",
    "    '''\n",
    "    Resolução de sistemas lineares usando decomposição LU.\n",
    "    \n",
    "    Entrada:\n",
    "        A - matriz de coefficientes.\n",
    "        b - vetor de termos independentes.\n",
    "    Saída:\n",
    "        x - vetor de incógnitas.\n",
    "    '''\n",
    "    L, U = decomp_lu(A)\n",
    "    y = lsolve_triang_inf(L,b)\n",
    "    x = lsolve_triang_sup(U,y)\n",
    "    return x\n",
    "\n",
    "def gauss_simples(A,b):\n",
    "    '''\n",
    "    Eliminação de Gauss para sistemas lineares.\n",
    "    \n",
    "    Entrada:\n",
    "        A : matriz de coeficientes.\n",
    "        b : vetor de termos independentes.\n",
    "    Saída:\n",
    "        A : matriz de coeficientes modificada.\n",
    "        b : vetor de termos independentes modificado.\n",
    "    '''\n",
    "    assert len( A.shape ) == 2, 'Deve ser uma matriz.'\n",
    "    assert A.shape[0] == A.shape[1], 'Deve ser matriz quadrada.'\n",
    "    assert A.shape[0] == b.shape[0], 'Vetor b deve ter o mesmo número de linhas que A'\n",
    "    \n",
    "    n = A.shape[0]\n",
    "    \n",
    "    for k in range(n):\n",
    "        for i in range(k+1,n):\n",
    "            coeff = A[i,k] / A[k,k]\n",
    "            for j in range(k,n):\n",
    "                A[i,j] = A[i,j] - A[k,j] * coeff\n",
    "            b[i] = b[i] - b[k] * coeff\n",
    "\n",
    "    return A, b\n",
    "\n",
    "def gauss_simples_mat(A,b):\n",
    "    '''\n",
    "    Eliminação de Gauss para sistemas lineares. Realiza operações nas linhas\n",
    "    e evita problemas de pivô igual a zero.\n",
    "    \n",
    "    Entrada:\n",
    "        A : matriz de coeficientes.\n",
    "        b : vetor de termos independentes.\n",
    "    Saída:\n",
    "        A : matriz de coeficientes modificada.\n",
    "        b : vetor de termos independentes modificado.\n",
    "    '''\n",
    "    assert len( A.shape ) == 2, 'A deve ser uma matriz (2D).'\n",
    "    assert A.shape[0] == A.shape[1], 'Deve ser matriz quadrada.'\n",
    "    assert A.shape[0] == b.shape[0], 'Vetor b deve ter o mesmo número de linhas que A'\n",
    "    \n",
    "    # ordem da matriz\n",
    "    n = A.shape[0]\n",
    "\n",
    "    # matriz aumentada\n",
    "    Ag = np.concatenate((A, b), axis=1)\n",
    "        \n",
    "    for k in range(n):\n",
    "        for i in range(k+1,n):\n",
    "            l = 0\n",
    "            while Ag[k,k] == 0:\n",
    "                aux = np.array(Ag[k,:])\n",
    "                Ag[k,:] = Ag[i+l,:]\n",
    "                Ag[i+l,:] = aux\n",
    "                l = l + 1\n",
    "            coeff = Ag[i,k] / Ag[k,k]\n",
    "            Ag[i] = Ag[i] - Ag[k] * coeff\n",
    "    A = Ag[:,:n]\n",
    "    b = Ag[:,-1].reshape(-1,1)\n",
    "\n",
    "    return A, b\n",
    "\n",
    "def lsolve_gauss_simples(A,b):\n",
    "    '''\n",
    "    Resolução de sistemas lineares usando\n",
    "    eliminação de Gauss simples.\n",
    "    \n",
    "    Entrada:\n",
    "        A - matriz de coefficientes.\n",
    "        b - vetor de termos independentes.\n",
    "    Saída:\n",
    "        x - vetor de incógnitas.\n",
    "    '''\n",
    "    A, b = gauss_simples_mat(A,b)\n",
    "    x = lsolve_triang_sup(A,b)\n",
    "    return x\n",
    "\n",
    "def cholesky_decomp(A):\n",
    "    '''\n",
    "    Decomposição de Cholesky.\n",
    "    \n",
    "    Entrada:\n",
    "        A : matriz quadrática e simétrica.\n",
    "    Saída:\n",
    "        G : matriz triangular inferior.\n",
    "    '''\n",
    "    assert len( A.shape ) == 2, 'A deve ser uma matriz (2D).'\n",
    "    assert (A.T == A).all(), 'Deve ser matriz simétrica.'\n",
    "    \n",
    "    # ordem da matriz\n",
    "    n = A.shape[0]\n",
    "\n",
    "    # inicialização de G\n",
    "    G = np.zeros(A.shape)\n",
    "    \n",
    "    # decomposição de cholesky\n",
    "    G[0,0] = np.sqrt(A[0,0])\n",
    "    for i in range(1,n):\n",
    "        G[i,0] = A[i,0] / G[0,0]\n",
    "        for j in range(1, i+1):\n",
    "            # elementos fora da diagonal principal\n",
    "            if j < i:\n",
    "                soma = 0\n",
    "                for k in range(j):\n",
    "                    soma += G[i,k]*G[j,k]\n",
    "                G[i,j] = ( A[i,j] - soma ) / G[j,j]\n",
    "            # elementos na diagonal principal\n",
    "            else:\n",
    "                soma = 0\n",
    "                for k in range(i):\n",
    "                    soma += G[i,k]*G[i,k]\n",
    "                G[i,i] = np.sqrt( A[i,i] - soma )\n",
    "    \n",
    "    # retorna G\n",
    "    return G\n",
    "\n",
    "def lsolve_cholesky(A, b):\n",
    "    '''\n",
    "    Resolução de sistemas lineares usando decomposição de Cholesky.\n",
    "    \n",
    "    Entrada:\n",
    "        A - matriz de coefficientes.\n",
    "        b - vetor de termos independentes.\n",
    "    Saída:\n",
    "        x - vetor de incógnitas.\n",
    "    '''\n",
    "    G = cholesky_decomp(A)\n",
    "    y = lsolve_triang_inf(G,b)\n",
    "    x = lsolve_triang_sup(G.T,y)\n",
    "    return x\n",
    "\n",
    "def gauss_pivotamento_parcial(A,b):\n",
    "    '''\n",
    "    Eliminação de Gauss com pivotamento parcial para sistemas lineares.\n",
    "    \n",
    "    Entrada:\n",
    "        A : matriz de coeficientes.\n",
    "        b : vetor de termos independentes.\n",
    "    Saída:\n",
    "        A : matriz de coeficientes modificada.\n",
    "        b : vetor de termos independentes modificado.\n",
    "    '''\n",
    "    assert len( A.shape ) == 2, 'A deve ser uma matriz (2D).'\n",
    "    assert A.shape[0] == A.shape[1], 'Deve ser matriz quadrada.'\n",
    "    assert A.shape[0] == b.shape[0], 'Vetor b deve ter o mesmo número de linhas que A'\n",
    "    \n",
    "    # ordem da matriz\n",
    "    n = A.shape[0]\n",
    "\n",
    "    # matriz aumentada\n",
    "    Ag = np.concatenate((A, b), axis=1)\n",
    "        \n",
    "    for k in range(n):\n",
    "        # ordena a matriz aumentada a partir da linha k\n",
    "        ordered_indices = np.argsort(np.abs(Ag[k:,k]))[::-1]\n",
    "        Ag[k:] = Ag[ordered_indices+k]\n",
    "        # eliminação\n",
    "        for i in range(k+1,n):\n",
    "            coeff = Ag[i,k] / Ag[k,k]\n",
    "            Ag[i] = Ag[i] - Ag[k] * coeff\n",
    "    A = Ag[:,:n]\n",
    "    b = Ag[:,-1]\n",
    "\n",
    "    return A, b    "
   ]
  },
  {
   "cell_type": "markdown",
   "id": "f91e7395",
   "metadata": {},
   "source": [
    "# testando as funções acima"
   ]
  },
  {
   "cell_type": "markdown",
   "id": "1168c5e6",
   "metadata": {},
   "source": [
    "# usando inversão de matrizes"
   ]
  },
  {
   "cell_type": "code",
   "execution_count": 3,
   "id": "10b8a0eb",
   "metadata": {},
   "outputs": [
    {
     "name": "stdout",
     "output_type": "stream",
     "text": [
      "A minha matriz A é\n",
      " [[ 2. -3.  1.]\n",
      " [ 4. -6. -1.]\n",
      " [ 1.  2.  1.]]\n",
      "\n",
      "O formato de A é\n",
      " (3, 3)\n",
      "\n",
      "A meu vetor b é\n",
      " [[-5.]\n",
      " [-7.]\n",
      " [ 4.]]\n",
      "\n",
      "O formato de b é\n",
      " (3, 1)\n",
      "\n"
     ]
    }
   ],
   "source": [
    "A = np.array( [ [2., -3., 1.], [4., -6., -1.], [1., 2., 1.] ] )\n",
    "print(f'A minha matriz A é\\n {A}\\n')\n",
    "print(f'O formato de A é\\n {A.shape}\\n')\n",
    "b = np.array( [ [-5.], [-7.], [4.] ] )\n",
    "print(f'A meu vetor b é\\n {b}\\n')\n",
    "print(f'O formato de b é\\n {b.shape}\\n')"
   ]
  },
  {
   "cell_type": "code",
   "execution_count": 4,
   "id": "7be4723b",
   "metadata": {},
   "outputs": [
    {
     "name": "stdout",
     "output_type": "stream",
     "text": [
      "O meu vetor de incógnitas é \n",
      "[[ 1.]\n",
      " [ 2.]\n",
      " [-1.]]\n",
      "\n"
     ]
    }
   ],
   "source": [
    "# solução do sistema usando inversão de matrizes\n",
    "x = lsolve(A, b)\n",
    "print(f'O meu vetor de incógnitas é \\n{x}\\n')"
   ]
  },
  {
   "cell_type": "markdown",
   "id": "fb954c49",
   "metadata": {},
   "source": [
    "# sistemas trinagulares"
   ]
  },
  {
   "cell_type": "code",
   "execution_count": 5,
   "id": "2fcaa757",
   "metadata": {},
   "outputs": [
    {
     "name": "stdout",
     "output_type": "stream",
     "text": [
      "A matriz A é \n",
      " [[ 1.   0.   0. ]\n",
      " [ 0.6  1.   0. ]\n",
      " [ 0.2 -3.   1. ]]\n",
      "\n",
      "O vetor b é \n",
      " [[ 0.]\n",
      " [-7.]\n",
      " [-5.]]\n",
      "\n"
     ]
    }
   ],
   "source": [
    "# sistema triangular inferior\n",
    "A = np.array( [ [1., 0., 0.], [3./5., 1., 0], [1/5., -3., 1.] ] )\n",
    "b = np.array( [ [0.], [-7.], [-5.] ] )\n",
    "print(f'A matriz A é \\n {A}\\n')\n",
    "print(f'O vetor b é \\n {b}\\n')"
   ]
  },
  {
   "cell_type": "code",
   "execution_count": 6,
   "id": "50f1c8d1",
   "metadata": {},
   "outputs": [
    {
     "name": "stdout",
     "output_type": "stream",
     "text": [
      "O  vetor x é\n",
      " [[  0.]\n",
      " [ -7.]\n",
      " [-26.]]\n"
     ]
    }
   ],
   "source": [
    "# resolve sistema triangular\n",
    "x = lsolve_triang_inf(A, b)\n",
    "print(f'O  vetor x é\\n {x}')"
   ]
  },
  {
   "cell_type": "code",
   "execution_count": 7,
   "id": "90f3bb42",
   "metadata": {},
   "outputs": [
    {
     "name": "stdout",
     "output_type": "stream",
     "text": [
      "A matriz A é \n",
      " [[ 5.   2.   1. ]\n",
      " [ 0.  -0.2  3.4]\n",
      " [ 0.   0.  13. ]]\n",
      "\n",
      "O vetor b é \n",
      " [[  0.]\n",
      " [ -7.]\n",
      " [-26.]]\n",
      "\n"
     ]
    }
   ],
   "source": [
    "# sistema triangular superior\n",
    "A = np.array( [ [5., 2., 1.], [0., -1./5., 17./5.], [0., 0., 13.] ] )\n",
    "b = np.array( [ [0.], [-7.], [-26.] ] )\n",
    "print(f'A matriz A é \\n {A}\\n')\n",
    "print(f'O vetor b é \\n {b}\\n')"
   ]
  },
  {
   "cell_type": "code",
   "execution_count": 8,
   "id": "804cd4e9",
   "metadata": {},
   "outputs": [
    {
     "name": "stdout",
     "output_type": "stream",
     "text": [
      "O  vetor x é\n",
      " [[-3.55271368e-16]\n",
      " [ 1.00000000e+00]\n",
      " [-2.00000000e+00]]\n"
     ]
    }
   ],
   "source": [
    "# resolve sistema triangular\n",
    "x = lsolve_triang_sup(A, b)\n",
    "print(f'O  vetor x é\\n {x}')"
   ]
  },
  {
   "cell_type": "markdown",
   "id": "5048c0a5",
   "metadata": {},
   "source": [
    "# decomposição LU"
   ]
  },
  {
   "cell_type": "code",
   "execution_count": 9,
   "id": "6ed8e34b",
   "metadata": {},
   "outputs": [
    {
     "name": "stdout",
     "output_type": "stream",
     "text": [
      "A matriz A é\n",
      "[[5. 2. 1.]\n",
      " [3. 1. 4.]\n",
      " [1. 1. 3.]]\n",
      "O vetor b é\n",
      "[[ 0.]\n",
      " [-7.]\n",
      " [-5.]]\n"
     ]
    }
   ],
   "source": [
    "# entra com sistema linear\n",
    "A = np.float32([ [5., 2., 1.], [3., 1., 4.], [1., 1., 3.] ])\n",
    "b = np.float32([ [0.], [-7.], [-5.] ])\n",
    "print(f'A matriz A é\\n{A}')\n",
    "print(f'O vetor b é\\n{b}')"
   ]
  },
  {
   "cell_type": "code",
   "execution_count": 10,
   "id": "e77a5a2e",
   "metadata": {},
   "outputs": [
    {
     "name": "stdout",
     "output_type": "stream",
     "text": [
      "A matriz L é\n",
      "[[ 1.   0.   0. ]\n",
      " [ 0.6  1.   0. ]\n",
      " [ 0.2 -3.   1. ]]\n",
      "\n",
      "A matriz U é\n",
      "[[ 5.   2.   1. ]\n",
      " [ 0.  -0.2  3.4]\n",
      " [ 0.   0.  13. ]]\n",
      "\n",
      "O resultado de L*U é\n",
      " [[5. 2. 1.]\n",
      " [3. 1. 4.]\n",
      " [1. 1. 3.]]\n",
      "\n"
     ]
    }
   ],
   "source": [
    "# decomposição LU de A\n",
    "L, U = decomp_lu(A)\n",
    "print(f'A matriz L é\\n{L}\\n')\n",
    "print(f'A matriz U é\\n{U}\\n')\n",
    "print(f'O resultado de L*U é\\n {L @ U}\\n')"
   ]
  },
  {
   "cell_type": "code",
   "execution_count": 11,
   "id": "1c6c0939",
   "metadata": {},
   "outputs": [
    {
     "name": "stdout",
     "output_type": "stream",
     "text": [
      "O resultado é x=\n",
      " [[-4.4408921e-16]\n",
      " [ 1.0000000e+00]\n",
      " [-2.0000000e+00]]\n"
     ]
    }
   ],
   "source": [
    "# resolve sistema linear usando LU\n",
    "x = lsolve_lu(A,b)\n",
    "print(f'O resultado é x=\\n {x}')"
   ]
  },
  {
   "cell_type": "markdown",
   "id": "7cb45169",
   "metadata": {},
   "source": [
    "# eliminação de Gauss"
   ]
  },
  {
   "cell_type": "code",
   "execution_count": 12,
   "id": "2de49d1b",
   "metadata": {},
   "outputs": [
    {
     "name": "stdout",
     "output_type": "stream",
     "text": [
      "A matriz A=\n",
      "[[ 6.  2. -1.]\n",
      " [ 2.  4.  1.]\n",
      " [ 3.  2.  8.]]\n",
      "\n",
      "O vetor b=\n",
      "[[ 7.]\n",
      " [ 7.]\n",
      " [13.]]\n",
      "\n"
     ]
    }
   ],
   "source": [
    "# entra com sistema linear\n",
    "A = np.array( [ [6., 2., -1.], [2., 4., 1.], [3., 2., 8.] ] )\n",
    "b = np.array( [ [7.], [7.], [13.] ] )\n",
    "print(f'A matriz A=\\n{A}\\n')\n",
    "print(f'O vetor b=\\n{b}\\n')"
   ]
  },
  {
   "cell_type": "code",
   "execution_count": 13,
   "id": "46800ac0",
   "metadata": {},
   "outputs": [
    {
     "name": "stdout",
     "output_type": "stream",
     "text": [
      "A matriz Am=\n",
      "[[ 6.          2.         -1.        ]\n",
      " [ 0.          3.33333333  1.33333333]\n",
      " [ 0.          0.          8.1       ]]\n",
      "\n",
      "O vetor bm=\n",
      "[[7.        ]\n",
      " [4.66666667]\n",
      " [8.1       ]]\n",
      "\n"
     ]
    }
   ],
   "source": [
    "# realiza eliminação de Gauss simples\n",
    "Am,bm = gauss_simples_mat(A,b)\n",
    "print(f'A matriz Am=\\n{Am}\\n')\n",
    "print(f'O vetor bm=\\n{bm}\\n')"
   ]
  },
  {
   "cell_type": "code",
   "execution_count": 14,
   "id": "b37d6a86",
   "metadata": {},
   "outputs": [
    {
     "name": "stdout",
     "output_type": "stream",
     "text": [
      "A matriz A=\n",
      "[[ 2. -3.  1.]\n",
      " [ 4. -6. -1.]\n",
      " [ 1.  2.  1.]]\n",
      "\n",
      "O vetor b=\n",
      "[[-5.]\n",
      " [-7.]\n",
      " [ 4.]]\n",
      "\n"
     ]
    }
   ],
   "source": [
    "# entra com sistema linear\n",
    "A = np.array([ [2., -3., 1.], [4., -6., -1.], [1., 2., 1.] ])\n",
    "b = np.array([ [-5.], [-7.], [4.] ])\n",
    "print(f'A matriz A=\\n{A}\\n')\n",
    "print(f'O vetor b=\\n{b}\\n')"
   ]
  },
  {
   "cell_type": "code",
   "execution_count": 15,
   "id": "b97835c3",
   "metadata": {},
   "outputs": [
    {
     "name": "stdout",
     "output_type": "stream",
     "text": [
      "O resultado é x=\n",
      " [[ 1.]\n",
      " [ 2.]\n",
      " [-1.]]\n"
     ]
    }
   ],
   "source": [
    "# soluciona usando a eliminação de Gauss simples\n",
    "x = lsolve_gauss_simples(A,b)\n",
    "print(f'O resultado é x=\\n {x}')"
   ]
  },
  {
   "cell_type": "markdown",
   "id": "30f65053",
   "metadata": {},
   "source": [
    "# método da decomposição de Cholesky"
   ]
  },
  {
   "cell_type": "code",
   "execution_count": 16,
   "id": "13a2969a",
   "metadata": {},
   "outputs": [
    {
     "name": "stdout",
     "output_type": "stream",
     "text": [
      "A matriz A=\n",
      "[[ 4.  2. -4.]\n",
      " [ 2. 10.  4.]\n",
      " [-4.  4.  9.]]\n",
      "\n",
      "O vetor b=\n",
      "[[0.]\n",
      " [6.]\n",
      " [5.]]\n",
      "\n"
     ]
    }
   ],
   "source": [
    "# entra com sistema linear\n",
    "A = np.array([ [4., 2., -4.], [2., 10., 4.], [-4., 4., 9.] ])\n",
    "b = np.array([ [0.], [6.], [5.] ])\n",
    "print(f'A matriz A=\\n{A}\\n')\n",
    "print(f'O vetor b=\\n{b}\\n')"
   ]
  },
  {
   "cell_type": "code",
   "execution_count": 17,
   "id": "42653ca2",
   "metadata": {},
   "outputs": [
    {
     "name": "stdout",
     "output_type": "stream",
     "text": [
      "A matriz G é\n",
      " [[ 2.  0.  0.]\n",
      " [ 1.  3.  0.]\n",
      " [-2.  2.  1.]]\n",
      "\n"
     ]
    }
   ],
   "source": [
    "# decomposição de Cholesky\n",
    "G = cholesky_decomp(A)\n",
    "print(f'A matriz G é\\n {G}\\n')"
   ]
  },
  {
   "cell_type": "code",
   "execution_count": 18,
   "id": "44a70af1",
   "metadata": {},
   "outputs": [
    {
     "name": "stdout",
     "output_type": "stream",
     "text": [
      "O resultado é x=\n",
      " [[1.]\n",
      " [0.]\n",
      " [1.]]\n"
     ]
    }
   ],
   "source": [
    "# soluciona usando a decomposição de Cholesky\n",
    "x = lsolve_cholesky(A,b)\n",
    "print(f'O resultado é x=\\n {x}')"
   ]
  },
  {
   "cell_type": "code",
   "execution_count": null,
   "id": "d64a958b",
   "metadata": {},
   "outputs": [],
   "source": []
  }
 ],
 "metadata": {
  "kernelspec": {
   "display_name": "Python 3 (ipykernel)",
   "language": "python",
   "name": "python3"
  },
  "language_info": {
   "codemirror_mode": {
    "name": "ipython",
    "version": 3
   },
   "file_extension": ".py",
   "mimetype": "text/x-python",
   "name": "python",
   "nbconvert_exporter": "python",
   "pygments_lexer": "ipython3",
   "version": "3.9.16"
  }
 },
 "nbformat": 4,
 "nbformat_minor": 5
}
