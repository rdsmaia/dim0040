{
 "cells": [
  {
   "cell_type": "code",
   "execution_count": 1,
   "id": "c0f0330c",
   "metadata": {},
   "outputs": [],
   "source": [
    "import numpy as np"
   ]
  },
  {
   "cell_type": "code",
   "execution_count": 75,
   "id": "fc0e69c1",
   "metadata": {},
   "outputs": [],
   "source": [
    "def decomp_lu(A):\n",
    "    assert len(A.shape) == 2, 'Deve ser uma matriz.'\n",
    "    assert A.shape[0] == A.shape[1], 'A matriz deve ser quadrática.'\n",
    "    \n",
    "    n = A.shape[0]\n",
    "\n",
    "    L = np.eye(n)\n",
    "    U = np.zeros(A.shape)\n",
    "    \n",
    "    for i in range(n):\n",
    "        for j in range(n):\n",
    "            if i <= j:\n",
    "                soma = 0\n",
    "                for k in range(i):\n",
    "                    soma += L[i,k] * U[k,j]\n",
    "                U[i,j] = A[i,j] - soma\n",
    "            else:\n",
    "                soma = 0\n",
    "                for k in range(j):\n",
    "                    soma += L[i,k] * U[k,j]\n",
    "                L[i,j] = (A[i,j] - soma) / U[j,j]\n",
    "    return L, U\n",
    "\n",
    "def gauss_simples(A, b):\n",
    "    \n",
    "    assert len(A.shape) == 2, 'Deve ser uma matriz.'\n",
    "    assert A.shape[0] == A.shape[1], 'A matriz deve ser quadrática.'\n",
    "    assert b.shape[0] == A.shape[0]\n",
    "    \n",
    "    n = A.shape[0]\n",
    "    \n",
    "    Ag = np.concatenate((A, b), axis=1)\n",
    "    \n",
    "    print(f'Initially: Ag=\\n{Ag}\\n')\n",
    "        \n",
    "    nsteps = n - 1\n",
    "    for k in range(nsteps):\n",
    "        for i in range(k+1,n):\n",
    "            for j in range(k, n+1):\n",
    "                print(Ag[i,j],Ag[k,j],Ag[i,k],Ag[k,k])\n",
    "                Ag[i,j] = Ag[i,j] - Ag[k,j] * Ag[i,k] / Ag[k,k]\n",
    "                print(k,i,j)\n",
    "        print(f'Step {k} ->\\n {Ag}\\n')\n",
    "        \n",
    "    return Ag\n"
   ]
  },
  {
   "cell_type": "code",
   "execution_count": 69,
   "id": "5a43c0b7",
   "metadata": {},
   "outputs": [
    {
     "name": "stdout",
     "output_type": "stream",
     "text": [
      "A=[[ 6  2 -1]\n",
      " [ 3  4  1]\n",
      " [ 3  2  8]]\n"
     ]
    }
   ],
   "source": [
    "A = np.array([ [6, 2, -1], [3, 4, 1], [3, 2, 8] ])\n",
    "print(f'A={A}')"
   ]
  },
  {
   "cell_type": "code",
   "execution_count": 70,
   "id": "07cd5f75",
   "metadata": {},
   "outputs": [
    {
     "name": "stdout",
     "output_type": "stream",
     "text": [
      "L=[[1.         0.         0.        ]\n",
      " [0.5        1.         0.        ]\n",
      " [0.5        0.33333333 1.        ]]\n",
      "U=[[ 6.   2.  -1. ]\n",
      " [ 0.   3.   1.5]\n",
      " [ 0.   0.   8. ]]\n",
      "[[ 6.  2. -1.]\n",
      " [ 3.  4.  1.]\n",
      " [ 3.  2.  8.]]\n"
     ]
    }
   ],
   "source": [
    "L,U = decomp_lu(A)\n",
    "print(f'L={L}')\n",
    "print(f'U={U}')\n",
    "print(L @ U)"
   ]
  },
  {
   "cell_type": "code",
   "execution_count": 71,
   "id": "9e5247dc",
   "metadata": {},
   "outputs": [
    {
     "data": {
      "text/plain": [
       "array([[ 7],\n",
       "       [ 7],\n",
       "       [13]])"
      ]
     },
     "execution_count": 71,
     "metadata": {},
     "output_type": "execute_result"
    }
   ],
   "source": [
    "b = np.array([ [7], [7], [13] ])\n",
    "b"
   ]
  },
  {
   "cell_type": "code",
   "execution_count": 76,
   "id": "1ad22d1f",
   "metadata": {},
   "outputs": [
    {
     "name": "stdout",
     "output_type": "stream",
     "text": [
      "Initially: Ag=\n",
      "[[ 6  2 -1  7]\n",
      " [ 3  4  1  7]\n",
      " [ 3  2  8 13]]\n",
      "\n",
      "3 6 3 6\n",
      "0 1 0\n",
      "4 2 0 6\n",
      "0 1 1\n",
      "1 -1 0 6\n",
      "0 1 2\n",
      "7 7 0 6\n",
      "0 1 3\n",
      "3 6 3 6\n",
      "0 2 0\n",
      "2 2 0 6\n",
      "0 2 1\n",
      "8 -1 0 6\n",
      "0 2 2\n",
      "13 7 0 6\n",
      "0 2 3\n",
      "Step 0 ->\n",
      " [[ 6  2 -1  7]\n",
      " [ 0  4  1  7]\n",
      " [ 0  2  8 13]]\n",
      "\n",
      "2 4 2 4\n",
      "1 2 1\n",
      "8 1 0 4\n",
      "1 2 2\n",
      "13 7 0 4\n",
      "1 2 3\n",
      "Step 1 ->\n",
      " [[ 6  2 -1  7]\n",
      " [ 0  4  1  7]\n",
      " [ 0  0  8 13]]\n",
      "\n",
      "[[ 6  2 -1  7]\n",
      " [ 0  4  1  7]\n",
      " [ 0  0  8 13]]\n"
     ]
    }
   ],
   "source": [
    "Ag = gauss_simples(A,b)\n",
    "print(Ag)"
   ]
  },
  {
   "cell_type": "code",
   "execution_count": null,
   "id": "a463435c",
   "metadata": {},
   "outputs": [],
   "source": []
  }
 ],
 "metadata": {
  "kernelspec": {
   "display_name": "Python 3 (ipykernel)",
   "language": "python",
   "name": "python3"
  },
  "language_info": {
   "codemirror_mode": {
    "name": "ipython",
    "version": 3
   },
   "file_extension": ".py",
   "mimetype": "text/x-python",
   "name": "python",
   "nbconvert_exporter": "python",
   "pygments_lexer": "ipython3",
   "version": "3.9.16"
  }
 },
 "nbformat": 4,
 "nbformat_minor": 5
}
