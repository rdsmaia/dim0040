{
 "cells": [
  {
   "cell_type": "code",
   "execution_count": 62,
   "id": "6a1d8a18",
   "metadata": {},
   "outputs": [],
   "source": [
    "import numpy as np\n",
    "import sympy as sy\n",
    "from sympy import *\n",
    "import matplotlib.pyplot as plt"
   ]
  },
  {
   "cell_type": "code",
   "execution_count": 82,
   "id": "318f1ce1",
   "metadata": {},
   "outputs": [],
   "source": [
    "def metodo_bisseccao(fx, a, b, epsilon, MAX_ITER):\n",
    "    xk_bef = 1.0e+20\n",
    "    f = lambdify(x, fx)\n",
    "    for k in range(MAX_ITER):\n",
    "        fa = f(a).astype(np.float32) # fx.subs(x, a)\n",
    "        fb = f(b).astype(np.float32) #fx.subs(x, b)\n",
    "        assert fa*fb < 0, f'f({a})={fa} and f({b})={fb}'\n",
    "        xk = (a+b)*0.5\n",
    "        fxk = float(fx.subs(x, xk))\n",
    "        if fa * fxk < 0:\n",
    "            b = xk\n",
    "        else:\n",
    "            a = xk\n",
    "        if k > 0:\n",
    "            varepsilon = np.abs(xk-xk_bef)\n",
    "            if varepsilon < epsilon * max([1,np.abs(xk)]):\n",
    "                break\n",
    "            else:\n",
    "                xk_bef = xk\n",
    "            print(f'ITERAÇÃO {k}: x={xk}, f(x)={fxk}, erro = {varepsilon}')\n",
    "    print(f'Convergência após {k} iterações!')\n",
    "    return xk"
   ]
  },
  {
   "cell_type": "code",
   "execution_count": 83,
   "id": "9036bb21",
   "metadata": {},
   "outputs": [],
   "source": [
    "x = sy.Symbol(\"x\")"
   ]
  },
  {
   "cell_type": "code",
   "execution_count": 84,
   "id": "69bf0d62",
   "metadata": {},
   "outputs": [
    {
     "name": "stdout",
     "output_type": "stream",
     "text": [
      "ITERAÇÃO 1: x=0.75, f(x)=-0.2725924915201594, erro = 1e+20\n",
      "ITERAÇÃO 2: x=0.875, f(x)=0.0231052024173779, erro = 0.125\n",
      "ITERAÇÃO 3: x=0.8125, f(x)=-0.13966164796203773, erro = 0.0625\n",
      "ITERAÇÃO 4: x=0.84375, f(x)=-0.062447811813503895, erro = 0.03125\n",
      "ITERAÇÃO 5: x=0.859375, f(x)=-0.020774954335847973, erro = 0.015625\n",
      "ITERAÇÃO 6: x=0.8671875, f(x)=0.0008811241420354499, erro = 0.0078125\n",
      "ITERAÇÃO 7: x=0.86328125, f(x)=-0.010016884036127993, erro = 0.00390625\n",
      "ITERAÇÃO 8: x=0.865234375, f(x)=-0.004585499781378455, erro = 0.001953125\n",
      "ITERAÇÃO 9: x=0.8662109375, f(x)=-0.0018566088393239255, erro = 0.0009765625\n",
      "ITERAÇÃO 10: x=0.86669921875, f(x)=-0.0004888496181811863, erro = 0.00048828125\n",
      "ITERAÇÃO 11: x=0.866943359375, f(x)=0.00019586019227646467, erro = 0.000244140625\n",
      "ITERAÇÃO 12: x=0.8668212890625, f(x)=-0.0001465639488120729, erro = 0.0001220703125\n",
      "ITERAÇÃO 13: x=0.86688232421875, f(x)=2.4630808824532835e-05, erro = 6.103515625e-05\n",
      "ITERAÇÃO 14: x=0.866851806640625, f(x)=-6.097089772783004e-05, erro = 3.0517578125e-05\n",
      "ITERAÇÃO 15: x=0.8668670654296875, f(x)=-1.8171126446753227e-05, erro = 1.52587890625e-05\n",
      "ITERAÇÃO 16: x=0.8668746948242188, f(x)=3.229570682439231e-06, erro = 7.62939453125e-06\n",
      "ITERAÇÃO 17: x=0.8668708801269531, f(x)=-7.470845508006363e-06, erro = 3.814697265625e-06\n",
      "ITERAÇÃO 18: x=0.8668727874755859, f(x)=-2.120654319370807e-06, erro = 1.9073486328125e-06\n",
      "Convergência após 19 iterações!\n",
      "Zero para a função (x + 1)**2*exp(x**2 - 2) - 1 usando o intervalo [0,1]: 0.8668737411499023\n"
     ]
    }
   ],
   "source": [
    "fx = (x+1)**2*sy.exp(x**2-2)-1\n",
    "a, b = (0, 1)\n",
    "epsilon = 1.0e-6\n",
    "MAX_ITER = 30\n",
    "xk = metodo_bisseccao(fx, a, b, epsilon, MAX_ITER)\n",
    "print(f'Zero para a função {fx} usando o intervalo [{a},{b}]: {xk}')"
   ]
  },
  {
   "cell_type": "code",
   "execution_count": 85,
   "id": "9bf055fa",
   "metadata": {},
   "outputs": [
    {
     "name": "stdout",
     "output_type": "stream",
     "text": [
      "ITERAÇÃO 1: x=0.5, f(x)=-0.11510935328763261, erro = 1e+20\n",
      "ITERAÇÃO 2: x=0.75, f(x)=0.24125454795875678, erro = 0.25\n",
      "ITERAÇÃO 3: x=0.625, f(x)=0.07060508872216298, erro = 0.125\n",
      "ITERAÇÃO 4: x=0.5625, f(x)=-0.020410223835560348, erro = 0.0625\n",
      "ITERAÇÃO 5: x=0.59375, f(x)=0.025562861171966045, erro = 0.03125\n",
      "ITERAÇÃO 6: x=0.578125, f(x)=0.0026920404007910737, erro = 0.015625\n",
      "ITERAÇÃO 7: x=0.5703125, f(x)=-0.008830239425337005, erro = 0.0078125\n",
      "ITERAÇÃO 8: x=0.57421875, f(x)=-0.003061876734008706, erro = 0.00390625\n",
      "ITERAÇÃO 9: x=0.576171875, f(x)=-0.00018311125327941102, erro = 0.001953125\n",
      "ITERAÇÃO 10: x=0.5771484375, f(x)=0.001254916454776378, erro = 0.0009765625\n",
      "ITERAÇÃO 11: x=0.57666015625, f(x)=0.0005360155519024135, erro = 0.00048828125\n",
      "ITERAÇÃO 12: x=0.576416015625, f(x)=0.00017648038471373972, erro = 0.000244140625\n",
      "ITERAÇÃO 13: x=0.5762939453125, f(x)=-3.3083757305929495e-06, erro = 0.0001220703125\n",
      "ITERAÇÃO 14: x=0.57635498046875, f(x)=8.658776916692368e-05, erro = 6.103515625e-05\n",
      "ITERAÇÃO 15: x=0.576324462890625, f(x)=4.164013788232612e-05, erro = 3.0517578125e-05\n",
      "ITERAÇÃO 16: x=0.5763092041015625, f(x)=1.9165991366421053e-05, erro = 1.52587890625e-05\n",
      "ITERAÇÃO 17: x=0.5763015747070312, f(x)=7.928835390469402e-06, erro = 7.62939453125e-06\n",
      "ITERAÇÃO 18: x=0.5762977600097656, f(x)=2.310236723257475e-06, erro = 3.814697265625e-06\n",
      "ITERAÇÃO 19: x=0.5762958526611328, f(x)=-4.990677804350696e-07, erro = 1.9073486328125e-06\n",
      "Convergência após 20 iterações!\n",
      "ITERAÇÃO 1: x=3.5, f(x)=0.15329416908665433, erro = 1e+20\n",
      "ITERAÇÃO 2: x=3.75, f(x)=-0.013416700695793815, erro = 0.25\n",
      "ITERAÇÃO 3: x=3.625, f(x)=0.06667758293277964, erro = 0.125\n",
      "ITERAÇÃO 4: x=3.6875, f(x)=0.025705617621877952, erro = 0.0625\n",
      "ITERAÇÃO 5: x=3.71875, f(x)=0.005899981776883223, erro = 0.03125\n",
      "ITERAÇÃO 6: x=3.734375, f(x)=-0.0038211090761215427, erro = 0.015625\n",
      "ITERAÇÃO 7: x=3.7265625, f(x)=0.001023951444276916, erro = 0.0078125\n",
      "ITERAÇÃO 8: x=3.73046875, f(x)=-0.0014024754374608595, erro = 0.00390625\n",
      "ITERAÇÃO 9: x=3.728515625, f(x)=-0.0001902329827401239, erro = 0.001953125\n",
      "ITERAÇÃO 10: x=3.7275390625, f(x)=0.0004166168808368287, erro = 0.0009765625\n",
      "ITERAÇÃO 11: x=3.72802734375, f(x)=0.00011313131196977189, erro = 0.00048828125\n",
      "ITERAÇÃO 12: x=3.728271484375, f(x)=-3.8566000852613413e-05, erro = 0.000244140625\n",
      "ITERAÇÃO 13: x=3.7281494140625, f(x)=3.7278864966405756e-05, erro = 0.0001220703125\n",
      "ITERAÇÃO 14: x=3.72821044921875, f(x)=-6.445156881529357e-07, erro = 6.103515625e-05\n",
      "ITERAÇÃO 15: x=3.728179931640625, f(x)=1.8316937715034953e-05, erro = 3.0517578125e-05\n",
      "ITERAÇÃO 16: x=3.7281951904296875, f(x)=8.836151780933221e-06, erro = 1.52587890625e-05\n",
      "ITERAÇÃO 17: x=3.7282028198242188, f(x)=4.095803238124418e-06, erro = 7.62939453125e-06\n",
      "ITERAÇÃO 18: x=3.7282066345214844, f(x)=1.7256400729470656e-06, erro = 3.814697265625e-06\n",
      "Convergência após 19 iterações!\n",
      "ITERAÇÃO 1: x=5.0, f(x)=-0.1671648054350835, erro = 1e+20\n",
      "ITERAÇÃO 2: x=5.5, f(x)=0.16626185133119942, erro = 0.5\n",
      "ITERAÇÃO 3: x=5.25, f(x)=-0.026353029678281792, erro = 0.25\n",
      "ITERAÇÃO 4: x=5.375, f(x)=0.06399541070939319, erro = 0.125\n",
      "ITERAÇÃO 5: x=5.3125, f(x)=0.017258871168132517, erro = 0.0625\n",
      "ITERAÇÃO 6: x=5.28125, f(x)=-0.004946053999447697, erro = 0.03125\n",
      "ITERAÇÃO 7: x=5.296875, f(x)=0.006057683184805485, erro = 0.015625\n",
      "ITERAÇÃO 8: x=5.2890625, f(x)=0.0005310039923648313, erro = 0.0078125\n",
      "ITERAÇÃO 9: x=5.28515625, f(x)=-0.0022137436388008913, erro = 0.00390625\n",
      "ITERAÇÃO 10: x=5.287109375, f(x)=-0.0008429224915501576, erro = 0.001953125\n",
      "ITERAÇÃO 11: x=5.2880859375, f(x)=-0.0001563471671939265, erro = 0.0009765625\n",
      "ITERAÇÃO 12: x=5.28857421875, f(x)=0.0001872314644122408, erro = 0.00048828125\n",
      "ITERAÇÃO 13: x=5.288330078125, f(x)=1.541790766046436e-05, erro = 0.000244140625\n",
      "ITERAÇÃO 14: x=5.2882080078125, f(x)=-7.047069049181953e-05, erro = 0.0001220703125\n",
      "ITERAÇÃO 15: x=5.28826904296875, f(x)=-2.752790653592907e-05, erro = 6.103515625e-05\n",
      "ITERAÇÃO 16: x=5.288299560546875, f(x)=-6.055378210190199e-06, erro = 3.0517578125e-05\n",
      "ITERAÇÃO 17: x=5.2883148193359375, f(x)=4.681170033160598e-06, erro = 1.52587890625e-05\n",
      "ITERAÇÃO 18: x=5.288307189941406, f(x)=-6.871277616893323e-07, erro = 7.62939453125e-06\n",
      "Convergência após 19 iterações!\n"
     ]
    }
   ],
   "source": [
    "fx = sy.sin(x) + sy.ln(x+1)-1\n",
    "a, b = (0,2)\n",
    "xk = metodo_bisseccao(fx, a, b, epsilon, MAX_ITER)\n",
    "a, b = (2,4)\n",
    "xk = metodo_bisseccao(fx, a, b, epsilon, MAX_ITER)\n",
    "a, b = (4,8)\n",
    "xk = metodo_bisseccao(fx, a, b, epsilon, MAX_ITER)"
   ]
  },
  {
   "cell_type": "code",
   "execution_count": null,
   "id": "b4ecacf2",
   "metadata": {},
   "outputs": [],
   "source": []
  }
 ],
 "metadata": {
  "kernelspec": {
   "display_name": "Python 3 (ipykernel)",
   "language": "python",
   "name": "python3"
  },
  "language_info": {
   "codemirror_mode": {
    "name": "ipython",
    "version": 3
   },
   "file_extension": ".py",
   "mimetype": "text/x-python",
   "name": "python",
   "nbconvert_exporter": "python",
   "pygments_lexer": "ipython3",
   "version": "3.9.16"
  }
 },
 "nbformat": 4,
 "nbformat_minor": 5
}
