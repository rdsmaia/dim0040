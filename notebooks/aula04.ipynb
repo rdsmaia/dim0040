{
 "cells": [
  {
   "cell_type": "code",
   "execution_count": 1,
   "id": "230d6f50",
   "metadata": {},
   "outputs": [],
   "source": [
    "# biblioteca\n",
    "import numpy as np"
   ]
  },
  {
   "cell_type": "code",
   "execution_count": 55,
   "id": "b4556ef5",
   "metadata": {},
   "outputs": [
    {
     "name": "stdout",
     "output_type": "stream",
     "text": [
      "x=[416 895 858 799 909 215 284 713 408 814 885   2 183 868 129 364 686 501\n",
      " 950 268 249 677 605 817 650 374 791 214 227 479 151 112 347 198 877 521\n",
      " 209 891 607 429 634 429  94  55 790 212 557 588 441 886]\n"
     ]
    }
   ],
   "source": [
    "# cria vetor aleatório com números inteiros, com 50 elementos, dentre 0 e 1000\n",
    "x = np.random.randint(0,            # limite inferior da lista\n",
    "                      1000,         # limite superior da lista\n",
    "                      size=(50,)    # número de elementos\n",
    "                     )\n",
    "print(f'x={x}')"
   ]
  },
  {
   "cell_type": "markdown",
   "id": "c12f1a9d",
   "metadata": {},
   "source": [
    "# achar os valores máximo e mínimo"
   ]
  },
  {
   "cell_type": "code",
   "execution_count": 39,
   "id": "cc6a18ef",
   "metadata": {},
   "outputs": [],
   "source": [
    "# achar valor mínimo\n",
    "def find_min(x, N):\n",
    "    '''Função para achar o valor mínimo.\n",
    "        Entrada:\n",
    "            x : vetor de entrada\n",
    "            N : número de elementos de x\n",
    "        Saída:\n",
    "            min : elemento de valor mínimo em x.'''\n",
    "    min = 1.9E100\n",
    "    for xi in x:\n",
    "        if xi < min:\n",
    "            min = xi\n",
    "    return min"
   ]
  },
  {
   "cell_type": "code",
   "execution_count": 40,
   "id": "d8272700",
   "metadata": {},
   "outputs": [],
   "source": [
    "# achar valor máximo\n",
    "def find_max(x, N):\n",
    "    '''Função para achar o valor máximo.\n",
    "        Entrada:\n",
    "            x : vetor de entrada\n",
    "            N : número de elementos de x\n",
    "        Saída:\n",
    "            min : elemento de valor máximo em x.'''\n",
    "    max = -1.9E100\n",
    "    for xi in x:\n",
    "        if xi > max:\n",
    "            max = xi\n",
    "    return max"
   ]
  },
  {
   "cell_type": "code",
   "execution_count": 43,
   "id": "111930f7",
   "metadata": {},
   "outputs": [
    {
     "name": "stdout",
     "output_type": "stream",
     "text": [
      "O valor mínimo de x é 1\n"
     ]
    }
   ],
   "source": [
    "# valor mínimo\n",
    "print(f'O valor mínimo de x é {find_min(x, 50)}')"
   ]
  },
  {
   "cell_type": "code",
   "execution_count": 44,
   "id": "dbab5d81",
   "metadata": {},
   "outputs": [
    {
     "name": "stdout",
     "output_type": "stream",
     "text": [
      "O valor mánimo de x é 999\n"
     ]
    }
   ],
   "source": [
    "# valor máximo\n",
    "print(f'O valor mánimo de x é {find_max(x, 50)}')"
   ]
  },
  {
   "cell_type": "markdown",
   "id": "0fe2fec6",
   "metadata": {},
   "source": [
    "# ordenar uma lista de números"
   ]
  },
  {
   "cell_type": "code",
   "execution_count": 46,
   "id": "09966635",
   "metadata": {},
   "outputs": [],
   "source": [
    "# função para ordenar\n",
    "def sort_array(x, N):\n",
    "    '''Função para ordenar x.\n",
    "        Entrada:\n",
    "            x : vetor de entrada\n",
    "            N : número de elementos de x\n",
    "        Saída:\n",
    "            y : vetor ordenado.'''\n",
    "    y = np.array(x)\n",
    "    for i in range(N):\n",
    "        for j in range(i,N):\n",
    "            if y[j] < y[i]:\n",
    "                aux = y[i]\n",
    "                y[i] = y[j]\n",
    "                y[j] = aux\n",
    "    return y"
   ]
  },
  {
   "cell_type": "code",
   "execution_count": 47,
   "id": "e1b2ee42",
   "metadata": {},
   "outputs": [
    {
     "name": "stdout",
     "output_type": "stream",
     "text": [
      "O vetor x ordenado é [  1   3   3   6  12  24  31  48  49  75  96  98 119 128 147 157 191 197\n",
      " 207 241 255 281 300 318 323 347 372 403 442 444 446 513 524 609 612 636\n",
      " 645 658 681 688 754 758 761 774 834 841 869 899 949 999]\n"
     ]
    }
   ],
   "source": [
    "# execução\n",
    "print(f'O vetor x ordenado é {sort_array(x, 50)}')"
   ]
  },
  {
   "cell_type": "markdown",
   "id": "f2c2bec9",
   "metadata": {},
   "source": [
    "# cálculo de raiz quadrada usando o método de Newton"
   ]
  },
  {
   "cell_type": "code",
   "execution_count": 51,
   "id": "94f8ef1b",
   "metadata": {},
   "outputs": [],
   "source": [
    "# implementação da função\n",
    "def raiz_quadrada_newton(a, x0=1, varepsilon=0.001, max_iter=100):\n",
    "    '''\n",
    "    Calcular a raiz quadrada de a.\n",
    "    \n",
    "    Entrada:\n",
    "        a : valor no qual devemos calcular a raiz quadrada.\n",
    "        x0 : valor inicial.\n",
    "        varepsilon : tolerância.\n",
    "        max_iter : número máximo de iterações.\n",
    "        \n",
    "    Saída:\n",
    "        y : raiz quadrada de a.\n",
    "    '''\n",
    "    epsilon = 1.0E100\n",
    "    x_atual = x0\n",
    "    k = 0\n",
    "    while epsilon > varepsilon and k < max_iter:\n",
    "        x_novo = (x_atual + a/x_atual) * 0.5\n",
    "        epsilon = np.abs(x_novo-x_atual)\n",
    "        k = k + 1\n",
    "        x_atual = x_novo\n",
    "        print(f'iteração: {k},\\t x={x_atual},\\terro={epsilon}')\n",
    "    y = x_atual\n",
    "    return y\n"
   ]
  },
  {
   "cell_type": "code",
   "execution_count": 58,
   "id": "d4144026",
   "metadata": {},
   "outputs": [
    {
     "name": "stdout",
     "output_type": "stream",
     "text": [
      "iteração: 1,\t x=65.5,\terro=64.5\n",
      "iteração: 2,\t x=33.74236641221374,\terro=31.75763358778626\n",
      "iteração: 3,\t x=18.79754483723633,\terro=14.94482157497741\n",
      "iteração: 4,\t x=12.856670807094972,\terro=5.940874030141359\n",
      "iteração: 5,\t x=11.484076580659188,\terro=1.3725942264357833\n",
      "iteração: 6,\t x=11.402049310237734,\terro=0.08202727042145419\n",
      "iteração: 7,\t x=11.401754254809113,\terro=0.0002950554286211826\n",
      "\n",
      "A raiz quadrada de 130 é 11.401754254809113\n"
     ]
    }
   ],
   "source": [
    "# teste\n",
    "a = 130\n",
    "print(f'\\nA raiz quadrada de {a} é {raiz_quadrada(a)}')"
   ]
  },
  {
   "cell_type": "code",
   "execution_count": null,
   "id": "b0f4edb3",
   "metadata": {},
   "outputs": [],
   "source": []
  }
 ],
 "metadata": {
  "kernelspec": {
   "display_name": "Python 3 (ipykernel)",
   "language": "python",
   "name": "python3"
  },
  "language_info": {
   "codemirror_mode": {
    "name": "ipython",
    "version": 3
   },
   "file_extension": ".py",
   "mimetype": "text/x-python",
   "name": "python",
   "nbconvert_exporter": "python",
   "pygments_lexer": "ipython3",
   "version": "3.9.16"
  }
 },
 "nbformat": 4,
 "nbformat_minor": 5
}
