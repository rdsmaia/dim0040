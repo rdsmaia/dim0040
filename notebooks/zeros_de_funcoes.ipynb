{
 "cells": [
  {
   "cell_type": "markdown",
   "id": "c9320984",
   "metadata": {},
   "source": [
    "# bibliotecas"
   ]
  },
  {
   "cell_type": "code",
   "execution_count": 2,
   "id": "6a1d8a18",
   "metadata": {},
   "outputs": [],
   "source": [
    "import numpy as np\n",
    "import sympy as sy\n",
    "from sympy import *\n",
    "import matplotlib.pyplot as plt"
   ]
  },
  {
   "cell_type": "markdown",
   "id": "75cf50d3",
   "metadata": {},
   "source": [
    "# funções para cálculo de zeros de $f(x)=0$"
   ]
  },
  {
   "cell_type": "code",
   "execution_count": 33,
   "id": "318f1ce1",
   "metadata": {},
   "outputs": [],
   "source": [
    "def erro_relativo(x, x_barra):\n",
    "    return np.abs(x-x_barra) / max([1,np.abs(x)])\n",
    "    \n",
    "def metodo_bisseccao(fx, a, b, epsilon, MAX_ITER):\n",
    "    '''\n",
    "    Método da bissecção.\n",
    "    \n",
    "    Entrada:\n",
    "        fx : função.\n",
    "        a : limite inferior do intervalo de busca.\n",
    "        b : limite superior do intervalo de busca.\n",
    "        epsilon : tolerância.\n",
    "        MAX_ITER : número máximo de iterações.\n",
    "    Saída:\n",
    "        xk : zero de f(x)\n",
    "    '''\n",
    "    f = lambdify(x, fx)\n",
    "    assert f(a)*f(b) < 0, f'f({a})={f(a)} and f({b})={f(b)}'\n",
    "    x0 = 1.0e+20\n",
    "    k = 1\n",
    "    while k < MAX_ITER:\n",
    "        xk = (a+b)*0.5\n",
    "        fxk = f(xk)\n",
    "        varepsilon = erro_relativo(xk, x0)\n",
    "        print(f'ITERAÇÃO {k}: x={xk}, f(x)={fxk}, erro = {varepsilon}')\n",
    "        if varepsilon < epsilon:\n",
    "            print(f'Convergência após {k} iterações!')\n",
    "            break\n",
    "        if f(a) * fxk < 0:\n",
    "            b = xk\n",
    "        else:\n",
    "            a = xk\n",
    "        x0 = xk\n",
    "        k += 1\n",
    "    print(f'O programa terminou após {k} iterações!')\n",
    "    return xk\n",
    "\n",
    "def metodo_iteracao_linear(fx, psix, a, b, epsilon, MAX_ITER):\n",
    "    '''\n",
    "    Método da iteração linear.\n",
    "    \n",
    "    Entrada:\n",
    "        fx : função.\n",
    "        psix : função psi(x).\n",
    "        a : limite inferior do intervalo de busca.\n",
    "        b : limite superior do intervalo de busca.\n",
    "        epsilon : tolerância.\n",
    "        MAX_ITER : número máximo de iterações.\n",
    "    Saída:\n",
    "        xk : zero de f(x)\n",
    "    '''\n",
    "    f = lambdify(x, fx)\n",
    "    psi = lambdify(x, psix)\n",
    "    x0 = (a+b)*0.5\n",
    "    k = 1\n",
    "    while k < MAX_ITER:\n",
    "        xk = psi(x0)\n",
    "        fxk = f(xk)\n",
    "        varepsilon = erro_relativo(xk, x0)\n",
    "        print(f'ITERAÇÃO {k}: x={xk}, f(x)={fxk}, erro = {varepsilon}')\n",
    "        if varepsilon < epsilon:\n",
    "            print(f'Convergência após {k} iterações!')\n",
    "            break\n",
    "        x0 = xk\n",
    "        k += 1\n",
    "    print(f'O programa terminou após {k} iterações!')\n",
    "    return xk\n",
    "\n",
    "def metodo_newton(fx, fxd, a, b, epsilon, MAX_ITER):\n",
    "    '''\n",
    "    Método de Newton.\n",
    "    \n",
    "    Entrada:\n",
    "        fx : função f(x).\n",
    "        fxd : derivada de f(x).\n",
    "        a : limite inferior do intervalo de busca.\n",
    "        b : limite superior do intervalo de busca.\n",
    "        epsilon : tolerância.\n",
    "        MAX_ITER : número máximo de iterações.\n",
    "    Saída:\n",
    "        xk : zero de f(x)\n",
    "    '''\n",
    "    f = lambdify(x, fx)\n",
    "    fd = lambdify(x, fxd)\n",
    "    x0 = (a+b)*0.5\n",
    "    k = 1\n",
    "    while k < MAX_ITER:\n",
    "        xk = x0 - f(x0) / fd(x0)\n",
    "        fxk = f(xk)\n",
    "        varepsilon = erro_relativo(xk, x0)\n",
    "        print(f'ITERAÇÃO {k}: x={xk}, f(x)={fxk}, erro = {varepsilon}')\n",
    "        if varepsilon < epsilon:\n",
    "            print(f'Convergência após {k} iterações!')\n",
    "            break\n",
    "        x0 = xk\n",
    "        k += 1\n",
    "    print(f'O programa terminou após {k} iterações!')\n",
    "    return xk\n",
    "\n",
    "def metodo_secantes(fx, a, b, epsilon, MAX_ITER):\n",
    "    '''\n",
    "    Método das secantes.\n",
    "    \n",
    "    Entrada:\n",
    "        fx : função f(x).\n",
    "        a : limite inferior do intervalo de busca.\n",
    "        b : limite superior do intervalo de busca.\n",
    "        epsilon : tolerância.\n",
    "        MAX_ITER : número máximo de iterações.\n",
    "    Saída:\n",
    "        xk : zero de f(x)\n",
    "    '''\n",
    "    f = lambdify(x, fx)\n",
    "    x0 = (a+b)*0.4\n",
    "    x1 = (a+b)*0.6\n",
    "    k = 1\n",
    "    while k < MAX_ITER:\n",
    "        xk = (x0*f(x1) - x1*f(x0)) / (f(x1) - f(x0))\n",
    "        fxk = f(xk)\n",
    "        varepsilon = erro_relativo(xk, x1)\n",
    "        print(f'ITERAÇÃO {k}: x={xk}, f(x)={fxk}, erro = {varepsilon}')\n",
    "        if varepsilon < epsilon:\n",
    "            print(f'Convergência após {k} iterações!')\n",
    "            break\n",
    "        x0 = x1\n",
    "        x1 = xk\n",
    "        k += 1\n",
    "    print(f'O programa terminou após {k} iterações!')\n",
    "    return xk\n",
    "\n",
    "def metodo_regula_falsi(fx, a, b, epsilon, MAX_ITER):\n",
    "    '''\n",
    "    Método das secantes.\n",
    "    \n",
    "    Entrada:\n",
    "        fx : função f(x).\n",
    "        a : limite inferior do intervalo de busca.\n",
    "        b : limite superior do intervalo de busca.\n",
    "        epsilon : tolerância.\n",
    "        MAX_ITER : número máximo de iterações.\n",
    "    Saída:\n",
    "        xk : zero de f(x)\n",
    "    '''\n",
    "    f = lambdify(x, fx)\n",
    "    assert f(a)*f(b) < 0, f'ERROR: f({a})*f({b})={f(a)*f(b)}\\n'\n",
    "    k = 1\n",
    "    while k < MAX_ITER:\n",
    "        fa = f(a)\n",
    "        fb = f(b)\n",
    "        xk = (a*fb - b*fa) / (fb - fa)\n",
    "        fxk = f(xk)\n",
    "        varepsilon1 = erro_relativo(xk, a)\n",
    "        varepsilon2 = erro_relativo(xk, b)\n",
    "        varepsilon = varepsilon1 if varepsilon1 < varepsilon2 else varepsilon2\n",
    "        print(f'ITERAÇÃO {k}: x={xk}, f(x)={fxk}, erro = {varepsilon}')\n",
    "        if varepsilon < epsilon:\n",
    "            print(f'Convergência após {k} iterações!')\n",
    "            break\n",
    "        if fa*fxk < 0:\n",
    "            b = xk\n",
    "        else:\n",
    "            a = xk\n",
    "        k += 1\n",
    "    print(f'O programa terminou após {k} iterações!')\n",
    "    return xk"
   ]
  },
  {
   "cell_type": "code",
   "execution_count": 23,
   "id": "92c94b39",
   "metadata": {},
   "outputs": [],
   "source": [
    "# set x as symbol\n",
    "x = sy.Symbol(\"x\")"
   ]
  },
  {
   "cell_type": "code",
   "execution_count": 35,
   "id": "a0cf473d",
   "metadata": {},
   "outputs": [],
   "source": [
    "# erro e número máximo de iteração\n",
    "epsilon = 0.001\n",
    "MAX_ITER = 30"
   ]
  },
  {
   "cell_type": "markdown",
   "id": "f0ea589b",
   "metadata": {},
   "source": [
    "# teste dos métodos em $f(x)=(x+1)^2e^{(x^2-2)}-1$"
   ]
  },
  {
   "cell_type": "code",
   "execution_count": 83,
   "id": "6419b25a",
   "metadata": {},
   "outputs": [],
   "source": [
    "# função\n",
    "fx = (x+1)**2*sy.exp(x**2-2)-1"
   ]
  },
  {
   "cell_type": "code",
   "execution_count": 84,
   "id": "3e8e18ae",
   "metadata": {},
   "outputs": [
    {
     "data": {
      "image/png": "[encoded data removed]",
      "text/plain": [
       "<Figure size 640x480 with 1 Axes>"
      ]
     },
     "metadata": {},
     "output_type": "display_data"
    }
   ],
   "source": [
    "# verificação dos intervalos das raízes\n",
    "x_np = np.arange(-2,2,0.1)\n",
    "f = lambdify(x, fx)\n",
    "fx_np = f(x_np)\n",
    "\n",
    "plt.plot(x_np, fx_np)\n",
    "plt.grid()\n",
    "plt.show()"
   ]
  },
  {
   "cell_type": "code",
   "execution_count": 85,
   "id": "277cd9ac",
   "metadata": {},
   "outputs": [],
   "source": [
    "# Intervalos de busca: (-2,-1) e (0,1)\n",
    "intervalos = [(-2, -1), (0,1)]"
   ]
  },
  {
   "cell_type": "markdown",
   "id": "b94f5fca",
   "metadata": {},
   "source": [
    "# método da bissecção"
   ]
  },
  {
   "cell_type": "code",
   "execution_count": 86,
   "id": "69bf0d62",
   "metadata": {},
   "outputs": [
    {
     "name": "stdout",
     "output_type": "stream",
     "text": [
      "ITERAÇÃO 1: x=-1.5, f(x)=-0.6789936458280647, erro = 6.666666666666666e+19\n",
      "ITERAÇÃO 2: x=-1.75, f(x)=0.6276477185966156, erro = 0.14285714285714285\n",
      "ITERAÇÃO 3: x=-1.625, f(x)=-0.2587240037741724, erro = 0.07692307692307693\n",
      "ITERAÇÃO 4: x=-1.6875, f(x)=0.10325990938046403, erro = 0.037037037037037035\n",
      "ITERAÇÃO 5: x=-1.65625, f(x)=-0.09449535114557739, erro = 0.018867924528301886\n",
      "ITERAÇÃO 6: x=-1.671875, f(x)=-0.00019989972460587868, erro = 0.009345794392523364\n",
      "ITERAÇÃO 7: x=-1.6796875, f(x)=0.05033147741609256, erro = 0.004651162790697674\n",
      "ITERAÇÃO 8: x=-1.67578125, f(x)=0.024772972575949126, erro = 0.002331002331002331\n",
      "ITERAÇÃO 9: x=-1.673828125, f(x)=0.012214167079989569, erro = 0.0011668611435239206\n",
      "ITERAÇÃO 10: x=-1.6728515625, f(x)=0.005989144623980813, erro = 0.0005837711617046118\n",
      "Convergência após 10 iterações!\n",
      "O programa terminou após 10 iterações!\n",
      "\n",
      "Zero da função no intervalo [-2,-1]: -1.6728515625\n",
      "\n",
      "ITERAÇÃO 1: x=0.5, f(x)=-0.6090086272364985, erro = 1e+20\n",
      "ITERAÇÃO 2: x=0.75, f(x)=-0.2725924915201594, erro = 0.25\n",
      "ITERAÇÃO 3: x=0.875, f(x)=0.0231052024173779, erro = 0.125\n",
      "ITERAÇÃO 4: x=0.8125, f(x)=-0.13966164796203773, erro = 0.0625\n",
      "ITERAÇÃO 5: x=0.84375, f(x)=-0.062447811813503895, erro = 0.03125\n",
      "ITERAÇÃO 6: x=0.859375, f(x)=-0.020774954335847973, erro = 0.015625\n",
      "ITERAÇÃO 7: x=0.8671875, f(x)=0.0008811241420354499, erro = 0.0078125\n",
      "ITERAÇÃO 8: x=0.86328125, f(x)=-0.010016884036127993, erro = 0.00390625\n",
      "ITERAÇÃO 9: x=0.865234375, f(x)=-0.004585499781378455, erro = 0.001953125\n",
      "ITERAÇÃO 10: x=0.8662109375, f(x)=-0.0018566088393239255, erro = 0.0009765625\n",
      "Convergência após 10 iterações!\n",
      "O programa terminou após 10 iterações!\n",
      "\n",
      "Zero da função no intervalo [0,1]: 0.8662109375\n",
      "\n"
     ]
    }
   ],
   "source": [
    "for a, b in intervalos:\n",
    "    xk = metodo_bisseccao(fx, a, b, epsilon, MAX_ITER)\n",
    "    print(f'\\nZero da função no intervalo [{a},{b}]: {xk}\\n')"
   ]
  },
  {
   "cell_type": "markdown",
   "id": "e2bec21e",
   "metadata": {},
   "source": [
    "# método da iteração linear"
   ]
  },
  {
   "cell_type": "code",
   "execution_count": 89,
   "id": "98b5e0ad",
   "metadata": {},
   "outputs": [
    {
     "name": "stdout",
     "output_type": "stream",
     "text": [
      "ITERAÇÃO 1: x=-1.2355996084642975, f(x)=-0.9654219636380366, erro = 0.21398549313585535\n",
      "ITERAÇÃO 2: x=-0.46071687922993465, f(x)=-0.9513337305645546, erro = 0.7748827292343629\n",
      "ITERAÇÃO 3: x=2.3818356447675697, f(x)=449.32896236461653, erro = 1.1934293326418388\n",
      "ITERAÇÃO 4: x=-3.3238722328854045, f(x)=45916.25911802523, erro = 1.7165845970860119\n",
      "ITERAÇÃO 5: x=-6.024004504692803, f(x)=1.9654543427025464e+16, erro = 0.4482287936046444\n",
      "ITERAÇÃO 6: x=-18.64431513627959, f(x)=3.889886779238199e+152, erro = 0.6768985902318924\n",
      "ITERAÇÃO 7: x=-174.30524345045214, f(x)=inf, erro = 0.8930364068962766\n",
      "ITERAÇÃO 8: x=-15191.658947160695, f(x)=inf, erro = 0.988526253514727\n",
      "ITERAÇÃO 9: x=-115393251.2834238, f(x)=inf, erro = 0.9998683488091531\n",
      "ITERAÇÃO 10: x=-6657801220879694.0, f(x)=inf, erro = 0.999999982667964\n",
      "ITERAÇÃO 11: x=-2.216315854837357e+31, f(x)=inf, erro = 0.9999999999999998\n",
      "ITERAÇÃO 12: x=-2.4560279842017223e+62, f(x)=inf, erro = 1.0\n",
      "ITERAÇÃO 13: x=-3.0160367295909877e+124, f(x)=inf, erro = 1.0\n",
      "ITERAÇÃO 14: x=-4.54823877712095e+248, f(x)=inf, erro = 1.0\n",
      "ITERAÇÃO 15: x=-inf, f(x)=inf, erro = nan\n",
      "ITERAÇÃO 16: x=-inf, f(x)=inf, erro = nan\n",
      "ITERAÇÃO 17: x=-inf, f(x)=inf, erro = nan\n",
      "ITERAÇÃO 18: x=-inf, f(x)=inf, erro = nan\n",
      "ITERAÇÃO 19: x=-inf, f(x)=inf, erro = nan\n",
      "ITERAÇÃO 20: x=-inf, f(x)=inf, erro = nan\n",
      "ITERAÇÃO 21: x=-inf, f(x)=inf, erro = nan\n",
      "ITERAÇÃO 22: x=-inf, f(x)=inf, erro = nan\n",
      "ITERAÇÃO 23: x=-inf, f(x)=inf, erro = nan\n",
      "ITERAÇÃO 24: x=-inf, f(x)=inf, erro = nan\n",
      "ITERAÇÃO 25: x=-inf, f(x)=inf, erro = nan\n",
      "ITERAÇÃO 26: x=-inf, f(x)=inf, erro = nan\n",
      "ITERAÇÃO 27: x=-inf, f(x)=inf, erro = nan\n",
      "ITERAÇÃO 28: x=-inf, f(x)=inf, erro = nan\n",
      "ITERAÇÃO 29: x=-inf, f(x)=inf, erro = nan\n",
      "O programa terminou após 30 iterações!\n",
      "\n",
      "Zero da função no intervalo [-2,-1]: -inf\n",
      "\n",
      "ITERAÇÃO 1: x=2.2523013380028654, f(x)=227.51160954488472, erro = 0.7780048381788228\n",
      "ITERAÇÃO 2: x=-3.0132863990562244, f(x)=4813.713135972158, erro = 1.7474567763317475\n",
      "ITERAÇÃO 3: x=-5.0395265305664925, f(x)=236468922820.81992, erro = 0.40206954348199425\n",
      "ITERAÇÃO 4: x=-13.198413826107272, f(x)=9.063653689056117e+76, erro = 0.6181718048120297\n",
      "ITERAÇÃO 5: x=-87.5990637625898, f(x)=inf, erro = 0.8493315652108167\n",
      "ITERAÇÃO 6: x=-3837.297986041136, f(x)=inf, erro = 0.9771716806770684\n",
      "ITERAÇÃO 7: x=-7362428.416837679, f(x)=inf, erro = 0.9994787999599065\n",
      "ITERAÇÃO 8: x=-27102676096529.99, f(x)=inf, erro = 0.9999997283504997\n",
      "ITERAÇÃO 9: x=-3.67277525796709e+26, f(x)=inf, erro = 0.9999999999999263\n",
      "ITERAÇÃO 10: x=-6.744639047767613e+52, f(x)=inf, erro = 1.0\n",
      "ITERAÇÃO 11: x=-2.2745077942335805e+105, f(x)=inf, erro = 1.0\n",
      "ITERAÇÃO 12: x=-2.586692853014654e+210, f(x)=inf, erro = 1.0\n",
      "ITERAÇÃO 13: x=-inf, f(x)=inf, erro = nan\n",
      "ITERAÇÃO 14: x=-inf, f(x)=inf, erro = nan\n",
      "ITERAÇÃO 15: x=-inf, f(x)=inf, erro = nan\n",
      "ITERAÇÃO 16: x=-inf, f(x)=inf, erro = nan\n",
      "ITERAÇÃO 17: x=-inf, f(x)=inf, erro = nan\n",
      "ITERAÇÃO 18: x=-inf, f(x)=inf, erro = nan\n",
      "ITERAÇÃO 19: x=-inf, f(x)=inf, erro = nan\n",
      "ITERAÇÃO 20: x=-inf, f(x)=inf, erro = nan\n",
      "ITERAÇÃO 21: x=-inf, f(x)=inf, erro = nan\n",
      "ITERAÇÃO 22: x=-inf, f(x)=inf, erro = nan\n",
      "ITERAÇÃO 23: x=-inf, f(x)=inf, erro = nan\n",
      "ITERAÇÃO 24: x=-inf, f(x)=inf, erro = nan\n",
      "ITERAÇÃO 25: x=-inf, f(x)=inf, erro = nan\n",
      "ITERAÇÃO 26: x=-inf, f(x)=inf, erro = nan\n",
      "ITERAÇÃO 27: x=-inf, f(x)=inf, erro = nan\n",
      "ITERAÇÃO 28: x=-inf, f(x)=inf, erro = nan\n",
      "ITERAÇÃO 29: x=-inf, f(x)=inf, erro = nan\n",
      "O programa terminou após 30 iterações!\n",
      "\n",
      "Zero da função no intervalo [0,1]: -inf\n",
      "\n"
     ]
    },
    {
     "name": "stderr",
     "output_type": "stream",
     "text": [
      "<lambdifygenerated-107>:2: RuntimeWarning: overflow encountered in exp\n",
      "  return (x + 1)**2*exp(x**2 - 2) - 1\n",
      "<lambdifygenerated-107>:2: RuntimeWarning: overflow encountered in scalar power\n",
      "  return (x + 1)**2*exp(x**2 - 2) - 1\n",
      "<lambdifygenerated-108>:2: RuntimeWarning: overflow encountered in scalar power\n",
      "  return -0.5*x**2 + 0.5*exp(2 - x**2) - 0.5\n",
      "/tmp/ipykernel_29241/1112878929.py:2: RuntimeWarning: invalid value encountered in scalar divide\n",
      "  return np.abs(x-x_barra) / max([1,np.abs(x)])\n",
      "/tmp/ipykernel_29241/1112878929.py:2: RuntimeWarning: invalid value encountered in scalar subtract\n",
      "  return np.abs(x-x_barra) / max([1,np.abs(x)])\n",
      "<lambdifygenerated-109>:2: RuntimeWarning: overflow encountered in exp\n",
      "  return (x + 1)**2*exp(x**2 - 2) - 1\n",
      "<lambdifygenerated-109>:2: RuntimeWarning: overflow encountered in scalar power\n",
      "  return (x + 1)**2*exp(x**2 - 2) - 1\n",
      "<lambdifygenerated-110>:2: RuntimeWarning: overflow encountered in scalar power\n",
      "  return -0.5*x**2 + 0.5*exp(2 - x**2) - 0.5\n"
     ]
    }
   ],
   "source": [
    "# função psi(x)\n",
    "psix = 0.5*(sy.exp(2-x**2)-x**2-1)\n",
    "\n",
    "for a, b in intervalos:\n",
    "    xk = metodo_iteracao_linear(fx, psix, a, b, epsilon, MAX_ITER)\n",
    "    print(f'\\nZero da função no intervalo [{a},{b}]: {xk}\\n')\n"
   ]
  },
  {
   "cell_type": "markdown",
   "id": "8f21d63f",
   "metadata": {},
   "source": [
    "# método de Newton"
   ]
  },
  {
   "cell_type": "code",
   "execution_count": 41,
   "id": "b332b4d0",
   "metadata": {},
   "outputs": [
    {
     "name": "stdout",
     "output_type": "stream",
     "text": [
      "ITERAÇÃO 1: x=-1.8021718760408028, f(x)=1.2410818122821747, erro = 0.167670953063947\n",
      "ITERAÇÃO 2: x=-1.7113510289634712, f(x)=0.28087549622704633, erro = 0.05306967743043329\n",
      "ITERAÇÃO 3: x=-1.6761769707051446, f(x)=0.02733528163117671, erro = 0.020984692471660318\n",
      "ITERAÇÃO 4: x=-1.671960287125077, f(x)=0.0003391857432082368, erro = 0.0025219998420645596\n",
      "ITERAÇÃO 5: x=-1.6719066391280342, f(x)=5.400113511910831e-08, erro = 3.208791435313113e-05\n",
      "Convergência após 5 iterações!\n",
      "O programa terminou após 5 iterações!\n",
      "\n",
      "Zero da função no intervalo [-2,-1]: -1.6719066391280342\n",
      "\n",
      "ITERAÇÃO 1: x=1.1675433668582345, f(x)=1.485183221943427, erro = 0.5717503827327117\n",
      "ITERAÇÃO 2: x=0.9841014857374799, f(x)=0.4032459006500946, erro = 0.18344188112075455\n",
      "ITERAÇÃO 3: x=0.887547158385979, f(x)=0.060029068824816845, erro = 0.09655432735150093\n",
      "ITERAÇÃO 4: x=0.8675696533561941, f(x)=0.0019548816722165796, erro = 0.019977505029784903\n",
      "ITERAÇÃO 5: x=0.8668743458305838, f(x)=2.2506204999661605e-06, erro = 0.0006953075256103114\n",
      "Convergência após 5 iterações!\n",
      "O programa terminou após 5 iterações!\n",
      "\n",
      "Zero da função no intervalo [0,1]: 0.8668743458305838\n",
      "\n"
     ]
    }
   ],
   "source": [
    "# derivada de fx\n",
    "fxd = sy.diff(fx, x)\n",
    "\n",
    "for a, b in intervalos:\n",
    "    xk = metodo_newton(fx, fxd, a, b, epsilon, MAX_ITER)\n",
    "    print(f'\\nZero da função no intervalo [{a},{b}]: {xk}\\n')"
   ]
  },
  {
   "cell_type": "markdown",
   "id": "1afca42c",
   "metadata": {},
   "source": [
    "# método das secantes"
   ]
  },
  {
   "cell_type": "code",
   "execution_count": 42,
   "id": "0ec39e08",
   "metadata": {},
   "outputs": [
    {
     "name": "stdout",
     "output_type": "stream",
     "text": [
      "ITERAÇÃO 1: x=-1.4678663718507305, f(x)=-0.7444950312918284, erro = 0.22626966222443334\n",
      "ITERAÇÃO 2: x=-1.5942778013392531, f(x)=-0.3929202252973283, erro = 0.07929071670089882\n",
      "ITERAÇÃO 3: x=-1.7355552947998187, f(x)=0.4886848177618639, erro = 0.0814018970665298\n",
      "ITERAÇÃO 4: x=-1.6572433946023581, f(x)=-0.08875735042251254, erro = 0.0472543142742475\n",
      "ITERAÇÃO 5: x=-1.6692805424780213, f(x)=-0.016469265979770165, erro = 0.007210979562365331\n",
      "ITERAÇÃO 6: x=-1.6720229445146826, f(x)=0.0007354064246958281, erro = 0.0016401700979392485\n",
      "ITERAÇÃO 7: x=-1.6719057217027948, f(x)=-5.744493737913636e-06, erro = 7.011329069940802e-05\n",
      "Convergência após 7 iterações!\n",
      "O programa terminou após 7 iterações!\n",
      "\n",
      "Zero da função no intervalo [-2,-1]: -1.6719057217027948\n",
      "\n",
      "ITERAÇÃO 1: x=1.143327302785251, f(x)=1.297717395002575, erro = 0.4752158909016303\n",
      "ITERAÇÃO 2: x=0.7518586778670674, f(x)=-0.2690088139047402, erro = 0.3914686249181837\n",
      "ITERAÇÃO 3: x=0.8190743214628976, f(x)=-0.12406355467878605, erro = 0.06721564359583021\n",
      "ITERAÇÃO 4: x=0.8766064664882235, f(x)=0.027747019257363448, erro = 0.05753214502532589\n",
      "ITERAÇÃO 5: x=0.8660910887082373, f(x)=-0.002191987758689007, erro = 0.010515377779986235\n",
      "ITERAÇÃO 6: x=0.8668609732725236, f(x)=-3.525943482873828e-05, erro = 0.0007698845642863938\n",
      "Convergência após 6 iterações!\n",
      "O programa terminou após 6 iterações!\n",
      "\n",
      "Zero da função no intervalo [0,1]: 0.8668609732725236\n",
      "\n"
     ]
    }
   ],
   "source": [
    "for a, b in intervalos:\n",
    "    xk = metodo_secantes(fx, a, b, epsilon, MAX_ITER)\n",
    "    print(f'\\nZero da função no intervalo [{a},{b}]: {xk}\\n')"
   ]
  },
  {
   "cell_type": "markdown",
   "id": "ec5e71ac",
   "metadata": {},
   "source": [
    "# método Regula Falsi"
   ]
  },
  {
   "cell_type": "code",
   "execution_count": 43,
   "id": "90e3f62d",
   "metadata": {},
   "outputs": [
    {
     "name": "stdout",
     "output_type": "stream",
     "text": [
      "ITERAÇÃO 1: x=-1.1353352832366126, f(x)=-0.9910043467868934, erro = 0.11920292202211748\n",
      "ITERAÇÃO 2: x=-1.251443613124751, f(x)=-0.9590319144620365, erro = 0.09277951373152608\n",
      "ITERAÇÃO 3: x=-1.3491410636015722, f(x)=-0.8981625006767143, erro = 0.07241455553655364\n",
      "ITERAÇÃO 4: x=-1.4293605714855397, f(x)=-0.8075357384694681, erro = 0.05612265336282164\n",
      "ITERAÇÃO 5: x=-1.4933925108697381, f(x)=-0.6935434562016984, erro = 0.04287683172249656\n",
      "ITERAÇÃO 6: x=-1.5430006111462051, f(x)=-0.5684788614374987, erro = 0.03215040870244117\n",
      "ITERAÇÃO 7: x=-1.5803406308130974, f(x)=-0.4461179922135702, erro = 0.02362782993668937\n",
      "ITERAÇÃO 8: x=-1.6077309492890872, f(x)=-0.3371769516658796, erro = 0.01703663071741039\n",
      "ITERAÇÃO 9: x=-1.6273948654449277, f(x)=-0.24719141460940464, erro = 0.012083063903771394\n",
      "ITERAÇÃO 10: x=-1.6412739123179494, f(x)=-0.1770148570696226, erro = 0.00845626483724491\n",
      "ITERAÇÃO 11: x=-1.6509448171198777, f(x)=-0.12457169785206734, erro = 0.005857800152763142\n",
      "ITERAÇÃO 12: x=-1.6576204206594165, f(x)=-0.08657070459812555, erro = 0.004027220862109771\n",
      "ITERAÇÃO 13: x=-1.6621975901478392, f(x)=-0.059629899601869596, erro = 0.0027536855519177963\n",
      "ITERAÇÃO 14: x=-1.6653211914193755, f(x)=-0.04081954328104587, erro = 0.0018756749674662086\n",
      "ITERAÇÃO 15: x=-1.667445872653087, f(x)=-0.027823809576072, erro = 0.0012742130155810444\n",
      "ITERAÇÃO 16: x=-1.6688878386622639, f(x)=-0.01891007623607799, erro = 0.000864028112478032\n",
      "Convergência após 16 iterações!\n",
      "O programa terminou após 16 iterações!\n",
      "\n",
      "Zero da função no intervalo [-2,-1]: -1.6688878386622639\n",
      "\n",
      "ITERAÇÃO 1: x=0.6471157411266276, f(x)=-0.4418847363865903, erro = 0.3528842588733724\n",
      "ITERAÇÃO 2: x=0.8178336530265474, f(x)=-0.12703265802903263, erro = 0.1707179118999198\n",
      "ITERAÇÃO 3: x=0.8564955173929903, f(x)=-0.028616823963763416, erro = 0.03866186436644292\n",
      "ITERAÇÃO 4: x=0.8647065921916052, f(x)=-0.006056658472331611, erro = 0.008211074798614826\n",
      "ITERAÇÃO 5: x=0.8664224000844035, f(x)=-0.0012645376040122391, erro = 0.0017158078927983489\n",
      "ITERAÇÃO 6: x=0.8667796763558056, f(x)=-0.0002632617063529352, erro = 0.00035727627140202944\n",
      "Convergência após 6 iterações!\n",
      "O programa terminou após 6 iterações!\n",
      "\n",
      "Zero da função no intervalo [0,1]: 0.8667796763558056\n",
      "\n"
     ]
    }
   ],
   "source": [
    "for a, b in intervalos:\n",
    "    xk = metodo_regula_falsi(fx, a, b, epsilon, MAX_ITER)\n",
    "    print(f'\\nZero da função no intervalo [{a},{b}]: {xk}\\n')"
   ]
  },
  {
   "cell_type": "markdown",
   "id": "5017aa51",
   "metadata": {},
   "source": [
    "# teste dos métodos para $f(x)=x^3+3x-1$"
   ]
  },
  {
   "cell_type": "code",
   "execution_count": 52,
   "id": "68d25bd1",
   "metadata": {},
   "outputs": [],
   "source": [
    "# função\n",
    "fx = x**3 + 3*x - 1"
   ]
  },
  {
   "cell_type": "code",
   "execution_count": 55,
   "id": "cdaf292c",
   "metadata": {},
   "outputs": [
    {
     "data": {
      "image/png": "[encoded data removed]",
      "text/plain": [
       "<Figure size 640x480 with 1 Axes>"
      ]
     },
     "metadata": {},
     "output_type": "display_data"
    }
   ],
   "source": [
    "# verificação dos intervalos das raízes\n",
    "x_np = np.arange(-2,2,0.1)\n",
    "f = lambdify(x, fx)\n",
    "fx_np = f(x_np)\n",
    "\n",
    "plt.plot(x_np, fx_np)\n",
    "plt.grid()\n",
    "plt.show()"
   ]
  },
  {
   "cell_type": "code",
   "execution_count": 58,
   "id": "f68dc23e",
   "metadata": {},
   "outputs": [],
   "source": [
    "# Intervalos de busca:\n",
    "intervalos = [(0,0.5)]"
   ]
  },
  {
   "cell_type": "markdown",
   "id": "480aec6b",
   "metadata": {},
   "source": [
    "# método da bissecção"
   ]
  },
  {
   "cell_type": "code",
   "execution_count": 59,
   "id": "b0f9d936",
   "metadata": {},
   "outputs": [
    {
     "name": "stdout",
     "output_type": "stream",
     "text": [
      "ITERAÇÃO 1: x=0.25, f(x)=-0.234375, erro = 1e+20\n",
      "ITERAÇÃO 2: x=0.375, f(x)=0.177734375, erro = 0.125\n",
      "ITERAÇÃO 3: x=0.3125, f(x)=-0.031982421875, erro = 0.0625\n",
      "ITERAÇÃO 4: x=0.34375, f(x)=0.071868896484375, erro = 0.03125\n",
      "ITERAÇÃO 5: x=0.328125, f(x)=0.019702911376953125, erro = 0.015625\n",
      "ITERAÇÃO 6: x=0.3203125, f(x)=-0.006198406219482422, erro = 0.0078125\n",
      "ITERAÇÃO 7: x=0.32421875, f(x)=0.006737411022186279, erro = 0.00390625\n",
      "ITERAÇÃO 8: x=0.322265625, f(x)=0.0002658143639564514, erro = 0.001953125\n",
      "ITERAÇÃO 9: x=0.3212890625, f(x)=-0.0029672151431441307, erro = 0.0009765625\n",
      "Convergência após 9 iterações!\n",
      "O programa terminou após 9 iterações!\n",
      "\n",
      "Zero da função no intervalo [0,0.5]: 0.3212890625\n",
      "\n"
     ]
    }
   ],
   "source": [
    "# executa método da bisseção\n",
    "for a, b in intervalos:\n",
    "    xk = metodo_bisseccao(fx, a, b, epsilon, MAX_ITER)\n",
    "    print(f'\\nZero da função no intervalo [{a},{b}]: {xk}\\n')"
   ]
  },
  {
   "cell_type": "markdown",
   "id": "f91c5412",
   "metadata": {},
   "source": [
    "# método iteração linear"
   ]
  },
  {
   "cell_type": "code",
   "execution_count": 61,
   "id": "4c5c7a38",
   "metadata": {},
   "outputs": [
    {
     "name": "stdout",
     "output_type": "stream",
     "text": [
      "ITERAÇÃO 1: x=0.328125, f(x)=0.019702911376953125, erro = 0.078125\n",
      "ITERAÇÃO 2: x=0.32155736287434894, f(x)=-0.002079157360800221, erro = 0.00656763712565106\n",
      "ITERAÇÃO 3: x=0.322250415327949, f(x)=0.0002154467639092772, erro = 0.0006930524536000737\n",
      "Convergência após 3 iterações!\n",
      "O programa terminou após 3 iterações!\n",
      "\n",
      "Zero da função no intervalo [0,0.5]: 0.322250415327949\n",
      "\n"
     ]
    }
   ],
   "source": [
    "# método da iteração linear\n",
    "psix = (1-x**3)/3\n",
    "\n",
    "# executa método nos intervalos\n",
    "for a, b in intervalos:\n",
    "    xk = metodo_iteracao_linear(fx, psix, a, b, epsilon, MAX_ITER)\n",
    "    print(f'\\nZero da função no intervalo [{a},{b}]: {xk}\\n')"
   ]
  },
  {
   "cell_type": "markdown",
   "id": "b5194f54",
   "metadata": {},
   "source": [
    "# método de Newton"
   ]
  },
  {
   "cell_type": "code",
   "execution_count": 62,
   "id": "65022f2c",
   "metadata": {},
   "outputs": [
    {
     "name": "stdout",
     "output_type": "stream",
     "text": [
      "ITERAÇÃO 1: x=0.3235294117647059, f(x)=0.004452473030734927, erro = 0.0735294117647059\n",
      "ITERAÇÃO 2: x=0.32218588296712575, f(x)=1.749554183527735e-06, erro = 0.0013435287975801513\n",
      "ITERAÇÃO 3: x=0.3221853546261671, f(x)=2.7000623958883807e-13, erro = 5.283409586498422e-07\n",
      "Convergência após 3 iterações!\n",
      "O programa terminou após 3 iterações!\n",
      "\n",
      "Zero da função no intervalo [0,0.5]: 0.3221853546261671\n",
      "\n"
     ]
    }
   ],
   "source": [
    "# método da iteração linear\n",
    "fxd = sy.diff(fx, x)\n",
    "\n",
    "# executa para cada intervalo\n",
    "for a, b in intervalos:\n",
    "    xk = metodo_newton(fx, fxd, a, b, epsilon, MAX_ITER)\n",
    "    print(f'\\nZero da função no intervalo [{a},{b}]: {xk}\\n')"
   ]
  },
  {
   "cell_type": "markdown",
   "id": "22652bd4",
   "metadata": {},
   "source": [
    "# método das secantes"
   ]
  },
  {
   "cell_type": "code",
   "execution_count": 63,
   "id": "cc3a7ee2",
   "metadata": {},
   "outputs": [
    {
     "name": "stdout",
     "output_type": "stream",
     "text": [
      "ITERAÇÃO 1: x=0.322884012539185, f(x)=0.002314015084641685, erro = 0.022884012539184984\n",
      "ITERAÇÃO 2: x=0.32218090369346364, f(x)=-1.4738844572259602e-05, erro = 0.0007031088457213341\n",
      "Convergência após 2 iterações!\n",
      "O programa terminou após 2 iterações!\n",
      "\n",
      "Zero da função no intervalo [0,0.5]: 0.32218090369346364\n",
      "\n"
     ]
    }
   ],
   "source": [
    "# executa para cada intervalo\n",
    "for a, b in intervalos:\n",
    "    xk = metodo_secantes(fx, a, b, epsilon, MAX_ITER)\n",
    "    print(f'\\nZero da função no intervalo [{a},{b}]: {xk}\\n')"
   ]
  },
  {
   "cell_type": "markdown",
   "id": "62153705",
   "metadata": {},
   "source": [
    "# método Regula Falsi"
   ]
  },
  {
   "cell_type": "code",
   "execution_count": 64,
   "id": "ec4bb494",
   "metadata": {},
   "outputs": [
    {
     "name": "stdout",
     "output_type": "stream",
     "text": [
      "ITERAÇÃO 1: x=0.3076923076923077, f(x)=-0.047792444242148346, erro = 0.1923076923076923\n",
      "ITERAÇÃO 2: x=0.3213530655391121, f(x)=-0.0027553816169756384, erro = 0.013660757846804372\n",
      "ITERAÇÃO 3: x=0.32213719339138897, f(x)=-0.00015947936239479876, erro = 0.0007841278522768835\n",
      "Convergência após 3 iterações!\n",
      "O programa terminou após 3 iterações!\n",
      "\n",
      "Zero da função no intervalo [0,0.5]: 0.32213719339138897\n",
      "\n"
     ]
    }
   ],
   "source": [
    "# executa para cada intervalo\n",
    "for a, b in intervalos:\n",
    "    xk = metodo_regula_falsi(fx, a, b, epsilon, MAX_ITER)\n",
    "    print(f'\\nZero da função no intervalo [{a},{b}]: {xk}\\n')"
   ]
  },
  {
   "cell_type": "markdown",
   "id": "5ac88052",
   "metadata": {},
   "source": [
    "# teste dos métodos em $f(x)=x^2-\\sin x$"
   ]
  },
  {
   "cell_type": "code",
   "execution_count": 65,
   "id": "240d623f",
   "metadata": {},
   "outputs": [],
   "source": [
    "# função\n",
    "fx = x**2 - sy.sin(x)"
   ]
  },
  {
   "cell_type": "code",
   "execution_count": 68,
   "id": "e521fc1c",
   "metadata": {},
   "outputs": [
    {
     "data": {
      "image/png": "[encoded data removed]",
      "text/plain": [
       "<Figure size 640x480 with 1 Axes>"
      ]
     },
     "metadata": {},
     "output_type": "display_data"
    }
   ],
   "source": [
    "# verificação dos intervalos das raízes\n",
    "x_np = np.arange(-2.5,2.5,0.1)\n",
    "f = lambdify(x, fx)\n",
    "fx_np = f(x_np)\n",
    "\n",
    "plt.plot(x_np, fx_np)\n",
    "plt.grid()\n",
    "plt.show()"
   ]
  },
  {
   "cell_type": "code",
   "execution_count": 69,
   "id": "942fa6c4",
   "metadata": {},
   "outputs": [],
   "source": [
    "# Intervalos de busca:\n",
    "intervalos = [(0.5,1)]"
   ]
  },
  {
   "cell_type": "markdown",
   "id": "d78a77da",
   "metadata": {},
   "source": [
    "# método da bissecção"
   ]
  },
  {
   "cell_type": "code",
   "execution_count": 70,
   "id": "74903e51",
   "metadata": {},
   "outputs": [
    {
     "name": "stdout",
     "output_type": "stream",
     "text": [
      "ITERAÇÃO 1: x=0.75, f(x)=-0.11913876002333412, erro = 1e+20\n",
      "ITERAÇÃO 2: x=0.875, f(x)=-0.0019185022360270754, erro = 0.125\n",
      "ITERAÇÃO 3: x=0.9375, f(x)=0.07282514173930699, erro = 0.0625\n",
      "ITERAÇÃO 4: x=0.90625, f(x)=0.03409241516805106, erro = 0.03125\n",
      "ITERAÇÃO 5: x=0.890625, f(x)=0.015747912378999196, erro = 0.015625\n",
      "ITERAÇÃO 6: x=0.8828125, f(x)=0.00683009435717552, erro = 0.0078125\n",
      "ITERAÇÃO 7: x=0.87890625, f(x)=0.00243466232831413, erro = 0.00390625\n",
      "ITERAÇÃO 8: x=0.876953125, f(x)=0.00025279899118890725, erro = 0.001953125\n",
      "ITERAÇÃO 9: x=0.8759765625, f(x)=-0.0008341715882815848, erro = 0.0009765625\n",
      "Convergência após 9 iterações!\n",
      "O programa terminou após 9 iterações!\n",
      "\n",
      "Zero da função no intervalo [0.5,1]: 0.8759765625\n",
      "\n"
     ]
    }
   ],
   "source": [
    "# executa método da bisseção\n",
    "for a, b in intervalos:\n",
    "    xk = metodo_bisseccao(fx, a, b, epsilon, MAX_ITER)\n",
    "    print(f'\\nZero da função no intervalo [{a},{b}]: {xk}\\n')"
   ]
  },
  {
   "cell_type": "markdown",
   "id": "6bb79f46",
   "metadata": {},
   "source": [
    "# método da iteração linear"
   ]
  },
  {
   "cell_type": "code",
   "execution_count": 72,
   "id": "9c0a4427",
   "metadata": {},
   "outputs": [
    {
     "name": "stdout",
     "output_type": "stream",
     "text": [
      "ITERAÇÃO 1: x=0.5974064166453502, f(x)=-0.20560557335096225, erro = 0.1525935833546498\n",
      "ITERAÇÃO 2: x=0.36494126344446876, f(x)=-0.2237123008845926, erro = 0.23246515320088146\n",
      "ITERAÇÃO 3: x=0.133579021148379, f(x)=-0.11533877087348607, erro = 0.23136224229608976\n",
      "ITERAÇÃO 4: x=0.017844301870333232, f(x)=-0.017524935781719504, erro = 0.11573471927804577\n",
      "ITERAÇÃO 5: x=0.0003184191146203693, f(x)=-0.0003183177185070225, erro = 0.017525882755712863\n",
      "ITERAÇÃO 6: x=1.0139073255562005e-07, f(x)=-1.0139072227553923e-07, erro = 0.0003183177238878137\n",
      "Convergência após 6 iterações!\n",
      "O programa terminou após 6 iterações!\n",
      "\n",
      "Zero da função no intervalo [0.5,1]: 1.0139073255562005e-07\n",
      "\n"
     ]
    }
   ],
   "source": [
    "# método da iteração linear\n",
    "psix = sy.asin(x**2)\n",
    "\n",
    "# executa método nos intervalos\n",
    "for a, b in intervalos:\n",
    "    xk = metodo_iteracao_linear(fx, psix, a, b, epsilon, MAX_ITER)\n",
    "    print(f'\\nZero da função no intervalo [{a},{b}]: {xk}\\n')"
   ]
  },
  {
   "cell_type": "markdown",
   "id": "31815047",
   "metadata": {},
   "source": [
    "# método de Newton"
   ]
  },
  {
   "cell_type": "code",
   "execution_count": 73,
   "id": "4adab070",
   "metadata": {},
   "outputs": [
    {
     "name": "stdout",
     "output_type": "stream",
     "text": [
      "ITERAÇÃO 1: x=0.9050657737428616, f(x)=0.03267827405672663, erro = 0.15506577374286157\n",
      "ITERAÇÃO 2: x=0.8776625559476823, f(x)=0.0010440925306475224, erro = 0.02740321779517929\n",
      "ITERAÇÃO 3: x=0.8767273027175759, f(x)=1.2110413066812598e-06, erro = 0.0009352532301063476\n",
      "Convergência após 3 iterações!\n",
      "O programa terminou após 3 iterações!\n",
      "\n",
      "Zero da função no intervalo [0.5,1]: 0.8767273027175759\n",
      "\n"
     ]
    }
   ],
   "source": [
    "# método da iteração linear\n",
    "fxd = sy.diff(fx, x)\n",
    "\n",
    "# executa para cada intervalo\n",
    "for a, b in intervalos:\n",
    "    xk = metodo_newton(fx, fxd, a, b, epsilon, MAX_ITER)\n",
    "    print(f'\\nZero da função no intervalo [{a},{b}]: {xk}\\n')"
   ]
  },
  {
   "cell_type": "markdown",
   "id": "516947a7",
   "metadata": {},
   "source": [
    "# método das secantes"
   ]
  },
  {
   "cell_type": "code",
   "execution_count": 74,
   "id": "8299a917",
   "metadata": {},
   "outputs": [
    {
     "name": "stdout",
     "output_type": "stream",
     "text": [
      "ITERAÇÃO 1: x=0.865406879755847, f(x)=-0.012430051627144612, erro = 0.03459312024415295\n",
      "ITERAÇÃO 2: x=0.8764032920283588, f(x)=-0.00035952170977171516, erro = 0.010996412272511802\n",
      "ITERAÇÃO 3: x=0.876730821057211, f(x)=5.129730533681709e-06, erro = 0.000327529028852247\n",
      "Convergência após 3 iterações!\n",
      "O programa terminou após 3 iterações!\n",
      "\n",
      "Zero da função no intervalo [0.5,1]: 0.876730821057211\n",
      "\n"
     ]
    }
   ],
   "source": [
    "# executa para cada intervalo\n",
    "for a, b in intervalos:\n",
    "    xk = metodo_secantes(fx, a, b, epsilon, MAX_ITER)\n",
    "    print(f'\\nZero da função no intervalo [{a},{b}]: {xk}\\n')"
   ]
  },
  {
   "cell_type": "markdown",
   "id": "bb15e4af",
   "metadata": {},
   "source": [
    "# método Regula Falsi"
   ]
  },
  {
   "cell_type": "code",
   "execution_count": 75,
   "id": "88dff1bd",
   "metadata": {},
   "outputs": [
    {
     "name": "stdout",
     "output_type": "stream",
     "text": [
      "ITERAÇÃO 1: x=0.795686100806361, f(x)=-0.08122753180353248, erro = 0.20431389919363896\n",
      "ITERAÇÃO 2: x=0.8649059571673935, f(x)=-0.01297194556840564, erro = 0.06921985636103245\n",
      "ITERAÇÃO 3: x=0.8751241656396341, f(x)=-0.001780780817604244, erro = 0.010218208472240642\n",
      "ITERAÇÃO 4: x=0.8765113328368139, f(x)=-0.0002392682926708467, erro = 0.001387167197179795\n",
      "ITERAÇÃO 5: x=0.8766974337500935, f(x)=-3.205531616345958e-05, erro = 0.00018610091327952993\n",
      "Convergência após 5 iterações!\n",
      "O programa terminou após 5 iterações!\n",
      "\n",
      "Zero da função no intervalo [0.5,1]: 0.8766974337500935\n",
      "\n"
     ]
    }
   ],
   "source": [
    "# executa para cada intervalo\n",
    "for a, b in intervalos:\n",
    "    xk = metodo_regula_falsi(fx, a, b, epsilon, MAX_ITER)\n",
    "    print(f'\\nZero da função no intervalo [{a},{b}]: {xk}\\n')"
   ]
  },
  {
   "cell_type": "markdown",
   "id": "0986ca5d",
   "metadata": {},
   "source": [
    "# teste dos métodos em $f(x)=\\sin(x)+\\ln(x+1)-1$"
   ]
  },
  {
   "cell_type": "code",
   "execution_count": 44,
   "id": "e892d260",
   "metadata": {},
   "outputs": [],
   "source": [
    "# função\n",
    "fx = sy.sin(x) + sy.log(x+1)-1"
   ]
  },
  {
   "cell_type": "code",
   "execution_count": 45,
   "id": "924368f9",
   "metadata": {},
   "outputs": [
    {
     "data": {
      "image/png": "[encoded data removed]",
      "text/plain": [
       "<Figure size 640x480 with 1 Axes>"
      ]
     },
     "metadata": {},
     "output_type": "display_data"
    }
   ],
   "source": [
    "# verificação dos intervalos das raízes\n",
    "x_np = np.arange(0,10,0.1)\n",
    "f = lambdify(x, fx)\n",
    "fx_np = f(x_np)\n",
    "\n",
    "plt.plot(x_np, fx_np)\n",
    "plt.grid()\n",
    "plt.show()"
   ]
  },
  {
   "cell_type": "code",
   "execution_count": 46,
   "id": "64729eda",
   "metadata": {},
   "outputs": [],
   "source": [
    "# Intervalos de busca: (0,2), (2,4) e (4,6)\n",
    "intervalos = [(0,2), (2,4), (4,6)]"
   ]
  },
  {
   "cell_type": "markdown",
   "id": "ac951998",
   "metadata": {},
   "source": [
    "# método da bissecção"
   ]
  },
  {
   "cell_type": "code",
   "execution_count": 47,
   "id": "9bf055fa",
   "metadata": {},
   "outputs": [
    {
     "name": "stdout",
     "output_type": "stream",
     "text": [
      "ITERAÇÃO 1: x=1.0, f(x)=0.5346181653678417, erro = 1e+20\n",
      "ITERAÇÃO 2: x=0.5, f(x)=-0.11510935328763261, erro = 0.5\n",
      "ITERAÇÃO 3: x=0.75, f(x)=0.24125454795875667, erro = 0.25\n",
      "ITERAÇÃO 4: x=0.625, f(x)=0.07060508872216298, erro = 0.125\n",
      "ITERAÇÃO 5: x=0.5625, f(x)=-0.020410223835560348, erro = 0.0625\n",
      "ITERAÇÃO 6: x=0.59375, f(x)=0.025562861171966045, erro = 0.03125\n",
      "ITERAÇÃO 7: x=0.578125, f(x)=0.0026920404007910737, erro = 0.015625\n",
      "ITERAÇÃO 8: x=0.5703125, f(x)=-0.008830239425337005, erro = 0.0078125\n",
      "ITERAÇÃO 9: x=0.57421875, f(x)=-0.003061876734008706, erro = 0.00390625\n",
      "ITERAÇÃO 10: x=0.576171875, f(x)=-0.0001831112532793, erro = 0.001953125\n",
      "ITERAÇÃO 11: x=0.5771484375, f(x)=0.001254916454776378, erro = 0.0009765625\n",
      "Convergência após 11 iterações!\n",
      "O programa terminou após 11 iterações!\n",
      "\n",
      "Zero da função no intervalo [0,2]: 0.5771484375\n",
      "\n",
      "ITERAÇÃO 1: x=3.0, f(x)=0.5274143691797577, erro = 3.333333333333333e+19\n",
      "ITERAÇÃO 2: x=3.5, f(x)=0.15329416908665427, erro = 0.14285714285714285\n",
      "ITERAÇÃO 3: x=3.75, f(x)=-0.013416700695793815, erro = 0.06666666666666667\n",
      "ITERAÇÃO 4: x=3.625, f(x)=0.0666775829327797, erro = 0.034482758620689655\n",
      "ITERAÇÃO 5: x=3.6875, f(x)=0.025705617621877952, erro = 0.01694915254237288\n",
      "ITERAÇÃO 6: x=3.71875, f(x)=0.005899981776883223, erro = 0.008403361344537815\n",
      "ITERAÇÃO 7: x=3.734375, f(x)=-0.0038211090761215427, erro = 0.0041841004184100415\n",
      "ITERAÇÃO 8: x=3.7265625, f(x)=0.001023951444276916, erro = 0.0020964360587002098\n",
      "ITERAÇÃO 9: x=3.73046875, f(x)=-0.0014024754374608595, erro = 0.0010471204188481676\n",
      "ITERAÇÃO 10: x=3.728515625, f(x)=-0.0001902329827401239, erro = 0.0005238344683080147\n",
      "Convergência após 10 iterações!\n",
      "O programa terminou após 10 iterações!\n",
      "\n",
      "Zero da função no intervalo [2,4]: 3.728515625\n",
      "\n",
      "ITERAÇÃO 1: x=5.0, f(x)=-0.1671648054350835, erro = 2e+19\n",
      "ITERAÇÃO 2: x=5.5, f(x)=0.1662618513311993, erro = 0.09090909090909091\n",
      "ITERAÇÃO 3: x=5.25, f(x)=-0.026353029678281792, erro = 0.047619047619047616\n",
      "ITERAÇÃO 4: x=5.375, f(x)=0.06399541070939341, erro = 0.023255813953488372\n",
      "ITERAÇÃO 5: x=5.3125, f(x)=0.017258871168132517, erro = 0.011764705882352941\n",
      "ITERAÇÃO 6: x=5.28125, f(x)=-0.004946053999447697, erro = 0.005917159763313609\n",
      "ITERAÇÃO 7: x=5.296875, f(x)=0.006057683184805374, erro = 0.0029498525073746312\n",
      "ITERAÇÃO 8: x=5.2890625, f(x)=0.0005310039923647203, erro = 0.0014771048744460858\n",
      "ITERAÇÃO 9: x=5.28515625, f(x)=-0.0022137436388008913, erro = 0.0007390983000739098\n",
      "Convergência após 9 iterações!\n",
      "O programa terminou após 9 iterações!\n",
      "\n",
      "Zero da função no intervalo [4,6]: 5.28515625\n",
      "\n"
     ]
    }
   ],
   "source": [
    "# executa método da bisseção\n",
    "for a, b in intervalos:\n",
    "    xk = metodo_bisseccao(fx, a, b, epsilon, MAX_ITER)\n",
    "    print(f'\\nZero da função no intervalo [{a},{b}]: {xk}\\n')"
   ]
  },
  {
   "cell_type": "markdown",
   "id": "7d1b7e25",
   "metadata": {},
   "source": [
    "# método da iteração linear"
   ]
  },
  {
   "cell_type": "code",
   "execution_count": 48,
   "id": "b4ecacf2",
   "metadata": {},
   "outputs": [
    {
     "name": "stdout",
     "output_type": "stream",
     "text": [
      "ITERAÇÃO 1: x=0.17178592332562181, f(x)=-0.6705287276573383, erro = 0.8282140766743782\n",
      "ITERAÇÃO 2: x=1.2911588620228223, f(x)=0.7902133066594406, erro = 0.8669521401444826\n",
      "ITERAÇÃO 3: x=0.039608745572818904, f(x)=-0.9215571741395454, erro = 1.2515501164500034\n",
      "ITERAÇÃO 4: x=1.612745568354065, f(x)=0.9595218699166539, erro = 0.9754401770806025\n",
      "ITERAÇÃO 5: x=0.000880127497993044, f(x)=-0.9982401322027421, erro = 1.611865440856072\n",
      "ITERAÇÃO 6: x=1.7158904466980522, f(x)=0.9886121744917618, erro = 0.9994870724412\n",
      "ITERAÇÃO 7: x=0.010563097854991765, f(x)=-0.9789294004567524, erro = 1.7053273488430605\n",
      "ITERAÇÃO 8: x=1.689719998934514, f(x)=0.9823740089183022, erro = 0.9937486105025374\n",
      "ITERAÇÃO 9: x=0.00708809211029271, f(x)=-0.9858488775794328, erro = 1.6826319068242213\n",
      "ITERAÇÃO 10: x=1.699082680289068, f(x)=0.9846945520411432, erro = 0.9958282829949825\n",
      "ITERAÇÃO 11: x=0.008251270828614876, f(x)=-0.9835314075996455, erro = 1.690831409460453\n",
      "ITERAÇÃO 12: x=1.6959450823658782, f(x)=0.9839279329907202, erro = 0.9951347063567034\n",
      "ITERAÇÃO 13: x=0.007851552853548549, f(x)=-0.9843276380072902, erro = 1.6880935295123296\n",
      "ITERAÇÃO 14: x=1.6970228805260135, f(x)=0.9841925284772044, erro = 0.9953733370694949\n",
      "ITERAÇÃO 15: x=0.007987732402621184, f(x)=-0.9840563531988556, erro = 1.6890351481233923\n",
      "ITERAÇÃO 16: x=1.69665563768981, f(x)=0.9841025190973713, erro = 0.9952920721063365\n",
      "ITERAÇÃO 17: x=0.007941198817402517, f(x)=-0.9841490512067179, erro = 1.6887144388724076\n",
      "ITERAÇÃO 18: x=1.6967811216843076, f(x)=0.9841332917297092, erro = 0.995319844901669\n",
      "ITERAÇÃO 19: x=0.007957083568718826, f(x)=-0.98411740748026, erro = 1.6888240381155888\n",
      "ITERAÇÃO 20: x=1.6967382856804707, f(x)=0.9841227889903681, erro = 0.9953103648123743\n",
      "ITERAÇÃO 21: x=0.007951659252080523, f(x)=-0.9841282131354036, erro = 1.6887866264283902\n",
      "ITERAÇÃO 22: x=1.696752913219726, f(x)=0.9841263756744871, erro = 0.9953136021219544\n",
      "ITERAÇÃO 23: x=0.007953511325561768, f(x)=-0.9841245236595714, erro = 1.6887994018941643\n",
      "ITERAÇÃO 24: x=1.696747918797732, f(x)=0.9841251510654629, erro = 0.9953124967843205\n",
      "ITERAÇÃO 25: x=0.007952878929788909, f(x)=-0.9841257834412351, erro = 1.688795039867943\n",
      "ITERAÇÃO 26: x=1.6967496241563191, f(x)=0.984125569214618, erro = 0.9953128742057371\n",
      "ITERAÇÃO 27: x=0.007953094860147614, f(x)=-0.984125353291088, erro = 1.6887965292961715\n",
      "ITERAÇÃO 28: x=1.6967490418646838, f(x)=0.9841254264387072, erro = 0.9953127453359825\n",
      "ITERAÇÃO 29: x=0.007953021130781002, f(x)=-0.9841255001657422, erro = 1.6887960207339028\n",
      "O programa terminou após 30 iterações!\n",
      "\n",
      "Zero da função no intervalo [0,2]: 0.007953021130781002\n",
      "\n",
      "ITERAÇÃO 1: x=1.3605154163246005, f(x)=0.8368523095079996, erro = 1.2050466786362681\n",
      "ITERAÇÃO 2: x=0.022272083056310565, f(x)=-0.9557020757943319, erro = 1.33824333326829\n",
      "ITERAÇÃO 3: x=1.6584141431728123, f(x)=0.973893772329478, erro = 0.9865702525825664\n",
      "ITERAÇÃO 4: x=0.0038433527075369955, f(x)=-0.992320670857393, erro = 1.6545707904652753\n",
      "ITERAÇÃO 5: x=1.7078545889195835, f(x)=0.9867788670672799, erro = 0.9977496019084573\n",
      "ITERAÇÃO 6: x=0.009421898931393669, f(x)=-0.9812004507813042, erro = 1.6984326899881899\n",
      "ITERAÇÃO 7: x=1.6927911030411975, f(x)=0.9831461021553607, erro = 0.9944341041759572\n",
      "ITERAÇÃO 8: x=0.007459825201421522, f(x)=-0.9851081056739676, erro = 1.685331277839776\n",
      "ITERAÇÃO 9: x=1.6980795549443854, f(x)=0.984450664375897, erro = 0.9956069047650328\n",
      "ITERAÇÃO 10: x=0.008122388671084613, f(x)=-0.9837881210274987, erro = 1.6899571662733008\n",
      "ITERAÇÃO 11: x=1.6962925523305246, f(x)=0.9840133789248617, erro = 0.9952116816996424\n",
      "ITERAÇÃO 12: x=0.007895326716237605, f(x)=-0.9842404335971782, erro = 1.688397225614287\n",
      "ITERAÇÃO 13: x=1.6969048276598206, f(x)=0.9841636109254015, erro = 0.995347218896698\n",
      "ITERAÇÃO 14: x=0.007972758902342836, f(x)=-0.9840861811764435, erro = 1.6889320687574778\n",
      "ITERAÇÃO 15: x=1.6966960150803083, f(x)=0.9841124228475975, erro = 0.9953010092370816\n",
      "ITERAÇÃO 16: x=0.007946308359726206, f(x)=-0.9841388725523418, erro = 1.6887497067205821\n",
      "ITERAÇÃO 17: x=1.6967673428369872, f(x)=0.9841299135911699, erro = 0.995316795556402\n",
      "ITERAÇÃO 18: x=0.0079553385520168, f(x)=-0.9841208836843022, erro = 1.6888120042849704\n",
      "ITERAÇÃO 19: x=1.6967429913889833, f(x)=0.9841239428601627, erro = 0.995311406269311\n",
      "ITERAÇÃO 20: x=0.007952255044093137, f(x)=-0.984127026270551, erro = 1.6887907363448902\n",
      "ITERAÇÃO 21: x=1.6967513065671573, f(x)=0.9841259817338304, erro = 0.9953132465474966\n",
      "ITERAÇÃO 22: x=0.007953307887786254, f(x)=-0.9841249289234313, erro = 1.688797998679371\n",
      "ITERAÇÃO 23: x=1.696748467400833, f(x)=0.9841252855817673, erro = 0.9953126181985186\n",
      "ITERAÇÃO 24: x=0.007952948392900838, f(x)=-0.9841256450652833, erro = 1.6887955190079322\n",
      "ITERAÇÃO 25: x=1.6967494368376284, f(x)=0.9841255232847597, erro = 0.995312832749352\n",
      "ITERAÇÃO 26: x=0.007953071141945989, f(x)=-0.9841254005395966, erro = 1.6887963656956824\n",
      "ITERAÇÃO 27: x=1.6967491058246988, f(x)=0.9841254421215022, erro = 0.9953127594912858\n",
      "ITERAÇÃO 28: x=0.007953029229337272, f(x)=-0.9841254840327857, erro = 1.6887960765953616\n",
      "ITERAÇÃO 29: x=1.6967492188489168, f(x)=0.9841254698346744, erro = 0.9953127845052243\n",
      "O programa terminou após 30 iterações!\n",
      "\n",
      "Zero da função no intervalo [2,4]: 1.6967492188489168\n",
      "\n",
      "ITERAÇÃO 1: x=6.091694245302881, f(x)=0.7686013610931484, erro = 0.17921028228635288\n",
      "ITERAÇÃO 2: x=2.288142821906285, f(x)=0.9438756743444934, erro = 1.6622875927944927\n",
      "ITERAÇÃO 3: x=0.27947167552018404, f(x)=-0.4777048998704151, erro = 2.008671146386101\n",
      "ITERAÇÃO 4: x=1.062981237114347, f(x)=0.5979611862299694, erro = 0.7370869157776858\n",
      "ITERAÇÃO 5: x=0.13449878339482613, f(x)=-0.7397154092129627, erro = 0.9284824537195209\n",
      "ITERAÇÃO 6: x=1.3771596772499124, f(x)=0.8472172914917431, erro = 0.9023361011677234\n",
      "ITERAÇÃO 7: x=0.01886480432648563, f(x)=-0.9624472440035174, erro = 1.3582948729234268\n",
      "ITERAÇÃO 8: x=1.667485623272495, f(x)=0.9764655451142035, erro = 0.9886866764767286\n",
      "ITERAÇÃO 9: x=0.004681694523062552, f(x)=-0.9906475531028786, erro = 1.6628039287494325\n",
      "ITERAÇÃO 10: x=1.7055854531566168, f(x)=0.9862480133007043, erro = 0.997255080644363\n",
      "ITERAÇÃO 11: x=0.009111569186214918, f(x)=-0.9818182476094096, erro = 1.6964738839704019\n",
      "ITERAÇÃO 12: x=1.693626850001468, f(x)=0.9833543678935031, erro = 0.9946200845917109\n",
      "ITERAÇÃO 13: x=0.007562642409373765, f(x)=-0.9849032406849375, erro = 1.6860642075920942\n",
      "ITERAÇÃO 14: x=1.6978021680232338, f(x)=0.9843830233532624, erro = 0.9955456280173214\n",
      "ITERAÇÃO 15: x=0.00808693031870833, f(x)=-0.9838587515002123, erro = 1.6897152377045255\n",
      "ITERAÇÃO 16: x=1.6963881569769255, f(x)=0.9840368650248836, erro = 0.9952328538221348\n",
      "ITERAÇÃO 17: x=0.007907392391915291, f(x)=-0.9842163972103288, erro = 1.6884807645850102\n",
      "ITERAÇÃO 18: x=1.6968722888928864, f(x)=0.9841556376485978, erro = 0.9953400191377547\n",
      "ITERAÇÃO 19: x=0.007968634263838315, f(x)=-0.9840943977061624, erro = 1.6889036546290481\n",
      "ITERAÇÃO 20: x=1.6967071376461367, f(x)=0.9841151506625812, erro = 0.9953034710074401\n",
      "ITERAÇÃO 21: x=0.007947716151756934, f(x)=-0.984136068112267, erro = 1.6887594214943797\n",
      "ITERAÇÃO 22: x=1.6967635464719684, f(x)=0.9841289828045867, erro = 0.9953159553856031\n",
      "ITERAÇÃO 23: x=0.00795485779675209, f(x)=-0.9841218413853481, erro = 1.6888086886752163\n",
      "ITERAÇÃO 24: x=1.6967442878216632, f(x)=0.9841242607493443, erro = 0.9953116931915741\n",
      "ITERAÇÃO 25: x=0.007952419190009108, f(x)=-0.9841266992789544, erro = 1.688791868631654\n",
      "ITERAÇÃO 26: x=1.6967508639204771, f(x)=0.9841258731992595, erro = 0.9953131485835025\n",
      "ITERAÇÃO 27: x=0.007953251839379893, f(x)=-0.9841250405762201, erro = 1.6887976120810972\n",
      "ITERAÇÃO 28: x=1.696748618544511, f(x)=0.9841253226418134, erro = 0.9953126516488917\n",
      "ITERAÇÃO 29: x=0.007952967530488131, f(x)=-0.9841256069417135, erro = 1.688795651014023\n",
      "O programa terminou após 30 iterações!\n",
      "\n",
      "Zero da função no intervalo [4,6]: 0.007952967530488131\n",
      "\n"
     ]
    }
   ],
   "source": [
    "# método da iteração linear\n",
    "psix = sy.exp(1-sy.sin(x))-1\n",
    "\n",
    "# executa método nos intervalos\n",
    "for a, b in intervalos:\n",
    "    xk = metodo_iteracao_linear(fx, psix, a, b, epsilon, MAX_ITER)\n",
    "    print(f'\\nZero da função no intervalo [{a},{b}]: {xk}\\n')"
   ]
  },
  {
   "cell_type": "markdown",
   "id": "525c75b4",
   "metadata": {},
   "source": [
    "# método de Newton"
   ]
  },
  {
   "cell_type": "code",
   "execution_count": 49,
   "id": "a2883ab9",
   "metadata": {},
   "outputs": [
    {
     "name": "stdout",
     "output_type": "stream",
     "text": [
      "ITERAÇÃO 1: x=0.48609345345851274, f(x)=-0.13667373497975854, erro = 0.5139065465414873\n",
      "ITERAÇÃO 2: x=0.5738696931158757, f(x)=-0.0035767418754785174, erro = 0.08777623965736292\n",
      "ITERAÇÃO 3: x=0.5762943019102238, f(x)=-2.783147514229256e-06, erro = 0.0024246087943481376\n",
      "ITERAÇÃO 4: x=0.5762961914967917, f(x)=-1.6913137557139635e-12, erro = 1.8895865678825174e-06\n",
      "Convergência após 4 iterações!\n",
      "O programa terminou após 4 iterações!\n",
      "\n",
      "Zero da função no intervalo [0,2]: 0.5762961914967917\n",
      "\n",
      "ITERAÇÃO 1: x=3.71272934739571, f(x)=0.009678535942626354, erro = 0.1919691097051427\n",
      "ITERAÇÃO 2: x=3.728114184487908, f(x)=5.9169154196681006e-05, erro = 0.004126707587501519\n",
      "ITERAÇÃO 3: x=3.728209408175752, f(x)=2.306611346369891e-09, erro = 2.5541400017643702e-05\n",
      "Convergência após 3 iterações!\n",
      "O programa terminou após 3 iterações!\n",
      "\n",
      "Zero da função no intervalo [2,4]: 3.728209408175752\n",
      "\n",
      "ITERAÇÃO 1: x=5.371206074504119, f(x)=0.06107185016579186, erro = 0.06911037658118335\n",
      "ITERAÇÃO 2: x=5.291803102631576, f(x)=0.0024641100478199895, erro = 0.015004899149225105\n",
      "ITERAÇÃO 3: x=5.288315187353864, f(x)=4.9401209820665315e-06, erro = 0.0006595513228963469\n",
      "Convergência após 3 iterações!\n",
      "O programa terminou após 3 iterações!\n",
      "\n",
      "Zero da função no intervalo [4,6]: 5.288315187353864\n",
      "\n"
     ]
    }
   ],
   "source": [
    "# método da iteração linear\n",
    "fxd = sy.diff(fx, x)\n",
    "\n",
    "# executa para cada intervalo\n",
    "for a, b in intervalos:\n",
    "    xk = metodo_newton(fx, fxd, a, b, epsilon, MAX_ITER)\n",
    "    print(f'\\nZero da função no intervalo [{a},{b}]: {xk}\\n')"
   ]
  },
  {
   "cell_type": "markdown",
   "id": "ed10f0aa",
   "metadata": {},
   "source": [
    "# método das secantes"
   ]
  },
  {
   "cell_type": "code",
   "execution_count": 50,
   "id": "6c733108",
   "metadata": {},
   "outputs": [
    {
     "name": "stdout",
     "output_type": "stream",
     "text": [
      "ITERAÇÃO 1: x=0.5061369500173408, f(x)=-0.10564978144489401, erro = 0.6938630499826591\n",
      "ITERAÇÃO 2: x=0.5948700061261403, f(x)=0.027193327585777638, erro = 0.08873305610879945\n",
      "ITERAÇÃO 3: x=0.5767061203208429, f(x)=0.000603698501629335, erro = 0.018163885805297375\n",
      "ITERAÇÃO 4: x=0.5762937222911554, f(x)=-3.6368610712989025e-06, erro = 0.0004123980296875107\n",
      "Convergência após 4 iterações!\n",
      "O programa terminou após 4 iterações!\n",
      "\n",
      "Zero da função no intervalo [0,2]: 0.5762937222911554\n",
      "\n",
      "ITERAÇÃO 1: x=3.7228916195241006, f(x)=0.0033112326405255743, erro = 0.0330097225714592\n",
      "ITERAÇÃO 2: x=3.7279639115894345, f(x)=0.00015254998655134244, erro = 0.0013606065363361546\n",
      "ITERAÇÃO 3: x=3.7282088801953748, f(x)=3.303523326003699e-07, erro = 6.570678140958053e-05\n",
      "Convergência após 3 iterações!\n",
      "O programa terminou após 3 iterações!\n",
      "\n",
      "Zero da função no intervalo [2,4]: 3.7282088801953748\n",
      "\n",
      "ITERAÇÃO 1: x=4.362137767236238, f(x)=-0.25992381003024123, erro = 0.37547237619720536\n",
      "ITERAÇÃO 2: x=4.821670267740557, f(x)=-0.23244753213525327, erro = 0.09530566691356455\n",
      "ITERAÇÃO 3: x=8.709285471168672, f(x)=1.9290719054345327, erro = 0.4463759072196824\n",
      "ITERAÇÃO 4: x=5.239740327265146, f(x)=-0.03320445766451097, erro = 0.6621597497589038\n",
      "ITERAÇÃO 5: x=5.298449878586404, f(x)=0.007177762612224692, erro = 0.011080514615893978\n",
      "ITERAÇÃO 6: x=5.288014513230899, f(x)=-0.0002065885259837641, erro = 0.00197339953008739\n",
      "ITERAÇÃO 7: x=5.288306458549662, f(x)=-1.2017570285571821e-06, erro = 5.5205824596388876e-05\n",
      "Convergência após 7 iterações!\n",
      "O programa terminou após 7 iterações!\n",
      "\n",
      "Zero da função no intervalo [4,6]: 5.288306458549662\n",
      "\n"
     ]
    }
   ],
   "source": [
    "# executa para cada intervalo\n",
    "for a, b in intervalos:\n",
    "    xk = metodo_secantes(fx, a, b, epsilon, MAX_ITER)\n",
    "    print(f'\\nZero da função no intervalo [{a},{b}]: {xk}\\n')"
   ]
  },
  {
   "cell_type": "markdown",
   "id": "080a39e2",
   "metadata": {},
   "source": [
    "# método Regula Falsi"
   ]
  },
  {
   "cell_type": "code",
   "execution_count": 51,
   "id": "4f7d068a",
   "metadata": {},
   "outputs": [
    {
     "name": "stdout",
     "output_type": "stream",
     "text": [
      "ITERAÇÃO 1: x=0.9960607215390428, f(x)=0.5305116591869177, erro = 0.9960607215390428\n",
      "ITERAÇÃO 2: x=0.6508024395372451, f(x)=0.10708651662597424, erro = 0.34525828200179765\n",
      "ITERAÇÃO 3: x=0.5878514730002052, f(x)=0.016956269268859403, erro = 0.06295096653703991\n",
      "ITERAÇÃO 4: x=0.5780499031908629, f(x)=0.0025815588999940076, erro = 0.009801569809342325\n",
      "ITERAÇÃO 5: x=0.5765614757816651, f(x)=0.00039069996370066917, erro = 0.0014884274091978567\n",
      "ITERAÇÃO 6: x=0.576336301209703, f(x)=5.9076239642186223e-05, erro = 0.00022517457196202795\n",
      "Convergência após 6 iterações!\n",
      "O programa terminou após 6 iterações!\n",
      "\n",
      "Zero da função no intervalo [0,2]: 0.576336301209703\n",
      "\n",
      "ITERAÇÃO 1: x=3.7448838200900836, f(x)=-0.010288780320307667, erro = 0.06812392377603307\n",
      "ITERAÇÃO 2: x=3.7272519669856337, f(x)=0.0005951143562346051, erro = 0.004730523522591217\n",
      "ITERAÇÃO 3: x=3.728216049165893, f(x)=-4.123873260097888e-06, erro = 0.000258590748911915\n",
      "Convergência após 3 iterações!\n",
      "O programa terminou após 3 iterações!\n",
      "\n",
      "Zero da função no intervalo [2,4]: 3.728216049165893\n",
      "\n",
      "ITERAÇÃO 1: x=4.362137767236238, f(x)=-0.25992381003024123, erro = 0.08301841586852975\n",
      "ITERAÇÃO 2: x=4.821670267740557, f(x)=-0.23244753213525327, erro = 0.09530566691356455\n",
      "ITERAÇÃO 3: x=5.126361540981039, f(x)=-0.10292906649795086, erro = 0.05943616555420956\n",
      "ITERAÇÃO 4: x=5.243231854457636, f(x)=-0.030882689435891453, erro = 0.022289747377323695\n",
      "ITERAÇÃO 5: x=5.276744608978689, f(x)=-0.008081959987706555, erro = 0.006351028333648899\n",
      "ITERAÇÃO 6: x=5.285409779156784, f(x)=-0.002035977081754514, erro = 0.0016394509678827073\n",
      "ITERAÇÃO 7: x=5.287586028458883, f(x)=-0.0005079067401854154, erro = 0.00041157709593495783\n",
      "Convergência após 7 iterações!\n",
      "O programa terminou após 7 iterações!\n",
      "\n",
      "Zero da função no intervalo [4,6]: 5.287586028458883\n",
      "\n"
     ]
    }
   ],
   "source": [
    "# executa para cada intervalo\n",
    "for a, b in intervalos:\n",
    "    xk = metodo_regula_falsi(fx, a, b, epsilon, MAX_ITER)\n",
    "    print(f'\\nZero da função no intervalo [{a},{b}]: {xk}\\n')"
   ]
  },
  {
   "cell_type": "markdown",
   "id": "7efccf4c",
   "metadata": {},
   "source": []
  }
 ],
 "metadata": {
  "kernelspec": {
   "display_name": "Python 3 (ipykernel)",
   "language": "python",
   "name": "python3"
  },
  "language_info": {
   "codemirror_mode": {
    "name": "ipython",
    "version": 3
   },
   "file_extension": ".py",
   "mimetype": "text/x-python",
   "name": "python",
   "nbconvert_exporter": "python",
   "pygments_lexer": "ipython3",
   "version": "3.9.16"
  }
 },
 "nbformat": 4,
 "nbformat_minor": 5
}
