{
 "cells": [
  {
   "cell_type": "code",
   "execution_count": 1,
   "id": "b978b926",
   "metadata": {},
   "outputs": [],
   "source": [
    "import numpy as np"
   ]
  },
  {
   "cell_type": "markdown",
   "id": "8186f625",
   "metadata": {},
   "source": [
    "# inicialização das matrizes"
   ]
  },
  {
   "cell_type": "code",
   "execution_count": null,
   "id": "13b1ad55",
   "metadata": {},
   "outputs": [],
   "source": [
    "m = 5\n",
    "n = 3\n",
    "p = 4\n",
    "A = np.random.rand(m,n)\n",
    "print(f'A matriz criada é {A}\\n')\n",
    "print(f'O formato da matriz é {A.shape}\\n')"
   ]
  },
  {
   "cell_type": "code",
   "execution_count": null,
   "id": "3e28a634",
   "metadata": {},
   "outputs": [],
   "source": [
    "B = np.random.rand(n,p)\n",
    "print(f'A matriz criada é {B}\\n')\n",
    "print(f'O formato da matriz é {B.shape}\\n')"
   ]
  },
  {
   "cell_type": "code",
   "execution_count": null,
   "id": "53266a59",
   "metadata": {},
   "outputs": [],
   "source": [
    "C = np.random.rand(n,p)\n",
    "print(f'A matriz criada é {C}\\n')\n",
    "print(f'O formato da matriz é {C.shape}\\n')"
   ]
  },
  {
   "cell_type": "markdown",
   "id": "243789e9",
   "metadata": {},
   "source": [
    "# verificação das propriedades matriciais"
   ]
  },
  {
   "cell_type": "code",
   "execution_count": null,
   "id": "457d3fcf",
   "metadata": {},
   "outputs": [],
   "source": [
    "# propridedade distributiva\n",
    "R1 = np.matmul(A, B)\n",
    "R2 = np.matmul(A, C)\n",
    "R3 = R1 + R2\n",
    "print(f'O valor do resultado é {R3}\\n')\n",
    "print(f'O formato do resultado é {R3.shape}\\n')\n",
    "R4 = A @ (B + C)\n",
    "print(f'O valor do resultado é {R4}\\n')\n",
    "print(f'O formato do resultado é {R4.shape}\\n')"
   ]
  },
  {
   "cell_type": "code",
   "execution_count": null,
   "id": "98ac4b5f",
   "metadata": {},
   "outputs": [],
   "source": [
    "# propriedade associativa\n",
    "R1 = A @ (B @ C.T)\n",
    "R2 = (A @ B) @ C.T\n",
    "print(f'O valor do resultado é {R1}\\n')\n",
    "print(f'O formato do resultado é {R1.shape}\\n')\n",
    "print(f'O valor do resultado é {R2}\\n')\n",
    "print(f'O formato do resultado é {R2.shape}\\n')"
   ]
  },
  {
   "cell_type": "markdown",
   "id": "38d5528a",
   "metadata": {},
   "source": [
    "# trabalhando com vetores"
   ]
  },
  {
   "cell_type": "code",
   "execution_count": null,
   "id": "9e0c4a4a",
   "metadata": {},
   "outputs": [],
   "source": [
    "m = 5\n",
    "n = 1\n",
    "b = np.random.rand(m,n)\n",
    "print(f'O vetor criado é {b}\\n')\n",
    "print(f'O formato do vetor é {b.shape}\\n')\n",
    "x = np.random.rand(m,n)\n",
    "print(f'O vetor criado é {x}\\n')\n",
    "print(f'O formato do vetor é {x.shape}\\n')\n",
    "ProdInt = x.T @ b\n",
    "print(f'o produto interno entre x e b é {ProdInt}\\n')"
   ]
  },
  {
   "cell_type": "markdown",
   "id": "b777f5f8",
   "metadata": {},
   "source": [
    "# verificando a inversão de matrizes para a solução de sistemas lineares no formato $Ax=b$"
   ]
  },
  {
   "cell_type": "code",
   "execution_count": null,
   "id": "b146984a",
   "metadata": {},
   "outputs": [],
   "source": [
    "!pip install scipy"
   ]
  },
  {
   "cell_type": "code",
   "execution_count": 8,
   "id": "06976a51",
   "metadata": {},
   "outputs": [
    {
     "name": "stdout",
     "output_type": "stream",
     "text": [
      "A matriz de coeficientes é:\n",
      " [[5 2 1]\n",
      " [3 1 4]\n",
      " [1 1 3]]\n",
      "\n",
      "A matriz de coeficientes é:\n",
      " [ 0 -7 -5]\n",
      "\n",
      "O formato de b é: (3,)\n",
      "\n",
      "O formato de b é: (3, 1)\n",
      "\n"
     ]
    }
   ],
   "source": [
    "A = np.array([[5, 2, 1],[3, 1, 4], [1, 1, 3]])\n",
    "print(f'A matriz de coeficientes é:\\n {A}\\n')\n",
    "b = np.array([0, -7, -5])\n",
    "print(f'A matriz de coeficientes é:\\n {b}\\n')\n",
    "print(f'O formato de b é: {b.shape}\\n')\n",
    "b = np.reshape(b, (3,1))\n",
    "print(f'O formato de b é: {b.shape}\\n')"
   ]
  },
  {
   "cell_type": "code",
   "execution_count": 9,
   "id": "5e9c5384",
   "metadata": {},
   "outputs": [],
   "source": [
    "from scipy import linalg"
   ]
  },
  {
   "cell_type": "code",
   "execution_count": 10,
   "id": "792e6cf4",
   "metadata": {},
   "outputs": [
    {
     "name": "stdout",
     "output_type": "stream",
     "text": [
      "A inversa da matriz de coeficientes é:\n",
      " [[ 0.07692308  0.38461538 -0.53846154]\n",
      " [ 0.38461538 -1.07692308  1.30769231]\n",
      " [-0.15384615  0.23076923  0.07692308]]\n",
      "\n",
      "O formato de A_inv é: (3, 3)\n",
      "\n"
     ]
    }
   ],
   "source": [
    "# matriz inversa\n",
    "A_inv = linalg.inv(A)\n",
    "print(f'A inversa da matriz de coeficientes é:\\n {A_inv}\\n')\n",
    "print(f'O formato de A_inv é: {A_inv.shape}\\n')"
   ]
  },
  {
   "cell_type": "code",
   "execution_count": 12,
   "id": "0b009996",
   "metadata": {},
   "outputs": [
    {
     "name": "stdout",
     "output_type": "stream",
     "text": [
      "A solução do sistema é\n",
      " [[ 0.]\n",
      " [ 1.]\n",
      " [-2.]]\n",
      "\n",
      "O formato de x é (3, 1)\n",
      "\n"
     ]
    }
   ],
   "source": [
    "# a solução será\n",
    "x = A_inv @ b\n",
    "print(f'A solução do sistema é\\n {x}\\n')\n",
    "print(f'O formato de x é {x.shape}\\n')\n"
   ]
  },
  {
   "cell_type": "code",
   "execution_count": null,
   "id": "98a5fada",
   "metadata": {},
   "outputs": [],
   "source": []
  }
 ],
 "metadata": {
  "kernelspec": {
   "display_name": "Python 3 (ipykernel)",
   "language": "python",
   "name": "python3"
  },
  "language_info": {
   "codemirror_mode": {
    "name": "ipython",
    "version": 3
   },
   "file_extension": ".py",
   "mimetype": "text/x-python",
   "name": "python",
   "nbconvert_exporter": "python",
   "pygments_lexer": "ipython3",
   "version": "3.9.16"
  }
 },
 "nbformat": 4,
 "nbformat_minor": 5
}
