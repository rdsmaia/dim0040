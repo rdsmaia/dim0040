{
 "cells": [
  {
   "cell_type": "code",
   "execution_count": 7,
   "id": "aea5d883",
   "metadata": {},
   "outputs": [],
   "source": [
    "import numpy as np\n",
    "from scipy import linalg"
   ]
  },
  {
   "cell_type": "markdown",
   "id": "6b02ce99",
   "metadata": {},
   "source": [
    "# Funçoes para a solução de sistemas lineares"
   ]
  },
  {
   "cell_type": "code",
   "execution_count": 23,
   "id": "6dd859b8",
   "metadata": {},
   "outputs": [],
   "source": [
    "def decomp_A(A):\n",
    "    '''\n",
    "    Decomposição A nas matrizes triangulares e diagonais.\n",
    "    \n",
    "    Entrada:\n",
    "        A : matriz de coeficientes.\n",
    "    Saída:\n",
    "        L : matriz triangular inferior.\n",
    "        D : matriz diagonal.\n",
    "        R : matriz triangular superior.\n",
    "    '''\n",
    "    L = np.tril(A, k=-1)\n",
    "    D = np.diag(np.diag(A))\n",
    "    R = np.triu(A, k=1)\n",
    "    return L, D, R\n",
    "\n",
    "def metodo_jacobi_richardson(A,b,x0,epsilon,MAX_ITER):\n",
    "    '''\n",
    "    Resolver um sistema linear usando Jocobi-Richardson.\n",
    "    \n",
    "    Entrada:\n",
    "        A : matriz de coeficientes.\n",
    "        b : vetor de termos independentes.\n",
    "        x0 : valor inicial de x.\n",
    "        epsilon : tolerância máxima.\n",
    "        MAX_ITER : número máximo de iterações.\n",
    "    Saída:\n",
    "        x : vetor de incógnitas\n",
    "    '''\n",
    "    assert len(A.shape) == 2, 'Dever ser uma matriz (2D).'\n",
    "    assert A.shape[0] == A.shape[1], 'Dever ser uma matriz quadrada.'\n",
    "    \n",
    "    # ordem do sistema\n",
    "    n = A.shape[0]\n",
    "    \n",
    "    # decomposição de A\n",
    "    L,D,R = decomp_A(A)\n",
    "    \n",
    "    # normalização de L, R, b\n",
    "    for i in range(n):\n",
    "        L[i,:] = L[i,:] / A[i,i]\n",
    "        R[i,:] = R[i,:] / A[i,i]\n",
    "        b[i] /= A[i,i]\n",
    "       \n",
    "    # loop principal\n",
    "    k = 0\n",
    "    while k < MAX_ITER:\n",
    "        x = -(L + R) @ x0 + b\n",
    "        \n",
    "        varepsilon = np.max(np.abs(x-x0)) / np.max( np.abs(x))\n",
    "        print(f'Na iteração {k+1}, x=\\n{x}, varepsilon={varepsilon}\\n')\n",
    "        \n",
    "        if varepsilon < epsilon:\n",
    "            break\n",
    "        else:\n",
    "            x0 = x\n",
    "        k += 1\n",
    "    \n",
    "    # retorna x\n",
    "    return x\n",
    "\n",
    "def metodo_gauss_seidel(A,b,x0,epsilon,MAX_ITER):\n",
    "    '''\n",
    "    Resolver um sistema linear usando Gauss-Seidel.\n",
    "    \n",
    "    Entrada:\n",
    "        A : matriz de coeficientes.\n",
    "        b : vetor de termos independentes.\n",
    "        x0 : valor inicial de x.\n",
    "        epsilon : tolerância máxima.\n",
    "        MAX_ITER : número máximo de iterações.\n",
    "    Saída:\n",
    "        x : vetor de incógnitas\n",
    "    '''\n",
    "    assert len(A.shape) == 2, 'Dever ser uma matriz (2D).'\n",
    "    assert A.shape[0] == A.shape[1], 'Dever ser uma matriz quadrada.'\n",
    "    \n",
    "    # ordem do sistema\n",
    "    n = A.shape[0]\n",
    "    \n",
    "    # decomposição de A\n",
    "    L,D,R = decomp_A(A)\n",
    "    \n",
    "    # normalização de L, R, b\n",
    "    for i in range(n):\n",
    "        L[i,:] = L[i,:] / A[i,i]\n",
    "        R[i,:] = R[i,:] / A[i,i]\n",
    "        b[i] /= A[i,i]\n",
    "       \n",
    "    # loop principal\n",
    "    k = 0\n",
    "    while k < MAX_ITER:\n",
    "        x = -(L + R) @ x0 + b\n",
    "        \n",
    "        varepsilon = np.max(np.abs(x-x0)) / np.max( np.abs(x))\n",
    "        print(f'Na iteração {k+1}, x=\\n{x}, varepsilon={varepsilon}\\n')        \n",
    "        \n",
    "        if varepsilon < epsilon:\n",
    "            break\n",
    "        else:\n",
    "            x0 = x\n",
    "        k += 1\n",
    "    \n",
    "    # retorna x\n",
    "    return x"
   ]
  },
  {
   "cell_type": "markdown",
   "id": "b7af516d",
   "metadata": {},
   "source": [
    "# Método de Jacobi-Richardson"
   ]
  },
  {
   "cell_type": "code",
   "execution_count": 49,
   "id": "542ff78e",
   "metadata": {},
   "outputs": [
    {
     "name": "stdout",
     "output_type": "stream",
     "text": [
      "A minha matriz A é\n",
      " [[10.  1. -1.]\n",
      " [ 1. 10.  1.]\n",
      " [ 2. -1. 10.]]\n",
      "\n",
      "O formato de A é\n",
      " (3, 3)\n",
      "\n",
      "A meu vetor b é\n",
      " [[10.]\n",
      " [12.]\n",
      " [11.]]\n",
      "\n",
      "O formato de b é\n",
      " (3, 1)\n",
      "\n"
     ]
    }
   ],
   "source": [
    "# entra com sistema linear\n",
    "#A = np.array( [ [10., 1., -3.], [2., 10., 8.], [7., 1., 10.] ] )\n",
    "#print(f'A minha matriz A é\\n {A}\\n')\n",
    "#print(f'O formato de A é\\n {A.shape}\\n')\n",
    "#b = np.array( [ [5.], [10.], [15.] ] )\n",
    "#print(f'A meu vetor b é\\n {b}\\n')\n",
    "#print(f'O formato de b é\\n {b.shape}\\n')\n",
    "A = np.array( [ [10., 1., -1.], [1., 10., 1.], [2., -1., 10.] ] )\n",
    "print(f'A minha matriz A é\\n {A}\\n')\n",
    "print(f'O formato de A é\\n {A.shape}\\n')\n",
    "b = np.array( [ [10.], [12.], [11.] ] )\n",
    "print(f'A meu vetor b é\\n {b}\\n')\n",
    "print(f'O formato de b é\\n {b.shape}\\n')"
   ]
  },
  {
   "cell_type": "code",
   "execution_count": 50,
   "id": "9eaa1871",
   "metadata": {},
   "outputs": [
    {
     "name": "stdout",
     "output_type": "stream",
     "text": [
      "Na iteração 1, x=\n",
      "[[1. ]\n",
      " [1.2]\n",
      " [1.1]], varepsilon=1.0\n",
      "\n",
      "Na iteração 2, x=\n",
      "[[0.99]\n",
      " [0.99]\n",
      " [1.02]], varepsilon=0.20588235294117643\n",
      "\n",
      "Na iteração 3, x=\n",
      "[[1.003]\n",
      " [0.999]\n",
      " [1.001]], varepsilon=0.018943170488534302\n",
      "\n",
      "O valor de x é \n",
      "[[1.003]\n",
      " [0.999]\n",
      " [1.001]]\n",
      "\n"
     ]
    }
   ],
   "source": [
    "# resolve o sistema linear\n",
    "epsilon = 0.1\n",
    "MAX_ITER = 20\n",
    "x0 = np.array( [[0.0],[0.0],[0.0]] )\n",
    "x = metodo_jacobi_richardson(A,b,x0,epsilon,MAX_ITER)\n",
    "print(f'O valor de x é \\n{x}\\n')"
   ]
  },
  {
   "cell_type": "markdown",
   "id": "ef9d30f0",
   "metadata": {},
   "source": [
    "# Método de Gauss-Seidel"
   ]
  },
  {
   "cell_type": "code",
   "execution_count": 51,
   "id": "08b0fbb6",
   "metadata": {},
   "outputs": [
    {
     "name": "stdout",
     "output_type": "stream",
     "text": [
      "A minha matriz A é\n",
      " [[ 4. -1. -1.]\n",
      " [ 2. -5.  1.]\n",
      " [ 1.  2.  4.]]\n",
      "\n",
      "O formato de A é\n",
      " (3, 3)\n",
      "\n",
      "A meu vetor b é\n",
      " [[-7.]\n",
      " [-5.]\n",
      " [ 4.]]\n",
      "\n",
      "O formato de b é\n",
      " (3, 1)\n",
      "\n"
     ]
    }
   ],
   "source": [
    "# entra com sistema linear\n",
    "A = np.array( [ [4., -1., -1.], [2., -5., 1.], [1., 2., 4.] ] )\n",
    "print(f'A minha matriz A é\\n {A}\\n')\n",
    "print(f'O formato de A é\\n {A.shape}\\n')\n",
    "b = np.array( [ [-7.], [-5.], [4.] ] )\n",
    "print(f'A meu vetor b é\\n {b}\\n')\n",
    "print(f'O formato de b é\\n {b.shape}\\n')"
   ]
  },
  {
   "cell_type": "code",
   "execution_count": 52,
   "id": "5710043c",
   "metadata": {},
   "outputs": [
    {
     "name": "stdout",
     "output_type": "stream",
     "text": [
      "Na iteração 1, x=\n",
      "[[-1.75]\n",
      " [ 1.  ]\n",
      " [ 1.  ]], varepsilon=1.0\n",
      "\n",
      "Na iteração 2, x=\n",
      "[[-1.25  ]\n",
      " [ 0.5   ]\n",
      " [ 0.9375]], varepsilon=0.4\n",
      "\n",
      "Na iteração 3, x=\n",
      "[[-1.390625]\n",
      " [ 0.6875  ]\n",
      " [ 1.0625  ]], varepsilon=0.1348314606741573\n",
      "\n",
      "Na iteração 4, x=\n",
      "[[-1.3125    ]\n",
      " [ 0.65625   ]\n",
      " [ 1.00390625]], varepsilon=0.05952380952380952\n",
      "\n",
      "O valor de x é \n",
      "[[-1.3125    ]\n",
      " [ 0.65625   ]\n",
      " [ 1.00390625]]\n",
      "\n"
     ]
    }
   ],
   "source": [
    "# resolve o sistema linear\n",
    "epsilon = 0.1\n",
    "MAX_ITER = 20\n",
    "x0 = np.array( [[0.0],[0.0],[0.0]] )\n",
    "x = metodo_gauss_seidel(A,b,x0,epsilon,MAX_ITER)\n",
    "print(f'O valor de x é \\n{x}\\n')"
   ]
  },
  {
   "cell_type": "code",
   "execution_count": null,
   "id": "4a0a7b1f",
   "metadata": {},
   "outputs": [],
   "source": []
  }
 ],
 "metadata": {
  "kernelspec": {
   "display_name": "Python 3 (ipykernel)",
   "language": "python",
   "name": "python3"
  },
  "language_info": {
   "codemirror_mode": {
    "name": "ipython",
    "version": 3
   },
   "file_extension": ".py",
   "mimetype": "text/x-python",
   "name": "python",
   "nbconvert_exporter": "python",
   "pygments_lexer": "ipython3",
   "version": "3.9.16"
  }
 },
 "nbformat": 4,
 "nbformat_minor": 5
}
