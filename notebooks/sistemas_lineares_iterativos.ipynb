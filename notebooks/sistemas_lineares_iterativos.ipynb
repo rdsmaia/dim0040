{
 "cells": [
  {
   "cell_type": "code",
   "execution_count": 1,
   "id": "aea5d883",
   "metadata": {},
   "outputs": [],
   "source": [
    "import numpy as np\n",
    "from scipy import linalg"
   ]
  },
  {
   "cell_type": "markdown",
   "id": "6b02ce99",
   "metadata": {},
   "source": [
    "# Funçoes para a solução de sistemas lineares"
   ]
  },
  {
   "cell_type": "code",
   "execution_count": 15,
   "id": "6dd859b8",
   "metadata": {},
   "outputs": [],
   "source": [
    "def decomp_A(A):\n",
    "    L = np.tril(A, k=-1)\n",
    "    D = np.diag(np.diag(A))\n",
    "    R = np.triu(A, k=1)\n",
    "    return L, D, R\n",
    "\n",
    "def jacobi_richardson(A,b):\n",
    "    L,D,R = decomp_A"
   ]
  },
  {
   "cell_type": "code",
   "execution_count": 3,
   "id": "542ff78e",
   "metadata": {},
   "outputs": [
    {
     "name": "stdout",
     "output_type": "stream",
     "text": [
      "A minha matriz A é\n",
      " [[ 2. -3.  1.]\n",
      " [ 4. -6. -1.]\n",
      " [ 1.  2.  1.]]\n",
      "\n",
      "O formato de A é\n",
      " (3, 3)\n",
      "\n",
      "A meu vetor b é\n",
      " [[-5.]\n",
      " [-7.]\n",
      " [ 4.]]\n",
      "\n",
      "O formato de b é\n",
      " (3, 1)\n",
      "\n"
     ]
    }
   ],
   "source": [
    "A = np.array( [ [2., -3., 1.], [4., -6., -1.], [1., 2., 1.] ] )\n",
    "print(f'A minha matriz A é\\n {A}\\n')\n",
    "print(f'O formato de A é\\n {A.shape}\\n')\n",
    "b = np.array( [ [-5.], [-7.], [4.] ] )\n",
    "print(f'A meu vetor b é\\n {b}\\n')\n",
    "print(f'O formato de b é\\n {b.shape}\\n')"
   ]
  },
  {
   "cell_type": "code",
   "execution_count": 17,
   "id": "9eaa1871",
   "metadata": {},
   "outputs": [
    {
     "name": "stdout",
     "output_type": "stream",
     "text": [
      "[[0. 0. 0.]\n",
      " [4. 0. 0.]\n",
      " [1. 2. 0.]]\n",
      "[[ 2.  0.  0.]\n",
      " [ 0. -6.  0.]\n",
      " [ 0.  0.  1.]]\n",
      "[[ 0. -3.  1.]\n",
      " [ 0.  0. -1.]\n",
      " [ 0.  0.  0.]]\n",
      "[[ 2. -3.  1.]\n",
      " [ 4. -6. -1.]\n",
      " [ 1.  2.  1.]]\n",
      "[[ 2. -3.  1.]\n",
      " [ 4. -6. -1.]\n",
      " [ 1.  2.  1.]]\n"
     ]
    }
   ],
   "source": [
    "L,D,R = jacobi_richardson(A,b)\n",
    "print(L)\n",
    "print(D)\n",
    "print(R)\n",
    "print(A)\n",
    "print(L+D+R)"
   ]
  },
  {
   "cell_type": "code",
   "execution_count": null,
   "id": "5710043c",
   "metadata": {},
   "outputs": [],
   "source": []
  }
 ],
 "metadata": {
  "kernelspec": {
   "display_name": "Python 3 (ipykernel)",
   "language": "python",
   "name": "python3"
  },
  "language_info": {
   "codemirror_mode": {
    "name": "ipython",
    "version": 3
   },
   "file_extension": ".py",
   "mimetype": "text/x-python",
   "name": "python",
   "nbconvert_exporter": "python",
   "pygments_lexer": "ipython3",
   "version": "3.9.12"
  }
 },
 "nbformat": 4,
 "nbformat_minor": 5
}
