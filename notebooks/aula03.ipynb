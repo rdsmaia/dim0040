{
 "cells": [
  {
   "cell_type": "code",
   "execution_count": 2,
   "id": "b6dfe044",
   "metadata": {},
   "outputs": [],
   "source": [
    "# bibliotecas\n",
    "import sympy\n",
    "import numpy as np"
   ]
  },
  {
   "cell_type": "code",
   "execution_count": 3,
   "id": "48073576",
   "metadata": {},
   "outputs": [],
   "source": [
    "# definir símbolo\n",
    "x = sympy.Symbol(\"x\")"
   ]
  },
  {
   "cell_type": "code",
   "execution_count": 4,
   "id": "f81adbfd",
   "metadata": {},
   "outputs": [],
   "source": [
    "# criar função\n",
    "f1 = x + 1\n",
    "f2 = -x**2 + 2\n",
    "f3 = x"
   ]
  },
  {
   "cell_type": "code",
   "execution_count": 5,
   "id": "0647ac56",
   "metadata": {},
   "outputs": [
    {
     "name": "stdout",
     "output_type": "stream",
     "text": [
      "O valor do limite é L = 0\n",
      "O valor do limite é L = 2\n",
      "O valor do limite é L = 4\n"
     ]
    }
   ],
   "source": [
    "# calcular limites\n",
    "L1 = sympy.limit(f1,x,-1)\n",
    "print(f'O valor do limite é L = {L1}')\n",
    "L2 = sympy.limit(f2,x,0)\n",
    "print(f'O valor do limite é L = {L2}')\n",
    "L3 = sympy.limit(f3,x,4)\n",
    "print(f'O valor do limite é L = {L3}')"
   ]
  },
  {
   "cell_type": "code",
   "execution_count": 6,
   "id": "d2e73906",
   "metadata": {},
   "outputs": [],
   "source": [
    "# função a ser derivada\n",
    "f = sympy.sqrt(x+4)"
   ]
  },
  {
   "cell_type": "code",
   "execution_count": 7,
   "id": "8cefe9b4",
   "metadata": {},
   "outputs": [
    {
     "name": "stdout",
     "output_type": "stream",
     "text": [
      "A derivada de f(x) é 1/(2*sqrt(x + 4))\n"
     ]
    }
   ],
   "source": [
    "dfx_dx = sympy.diff(f,x)\n",
    "print(f'A derivada de f(x) é {dfx_dx}')"
   ]
  },
  {
   "cell_type": "code",
   "execution_count": 8,
   "id": "5f1e9faf",
   "metadata": {},
   "outputs": [],
   "source": [
    "f = x**2*sympy.cos(x)+x*sympy.sin(x)"
   ]
  },
  {
   "cell_type": "code",
   "execution_count": 9,
   "id": "580e6790",
   "metadata": {},
   "outputs": [
    {
     "name": "stdout",
     "output_type": "stream",
     "text": [
      "A derivada de f(x) é -x**2*sin(x) + 3*x*cos(x) + sin(x)\n"
     ]
    }
   ],
   "source": [
    "dfx_dx = sympy.diff(f,x)\n",
    "print(f'A derivada de f(x) é {dfx_dx}')"
   ]
  },
  {
   "cell_type": "code",
   "execution_count": 10,
   "id": "15687c93",
   "metadata": {},
   "outputs": [
    {
     "name": "stdout",
     "output_type": "stream",
     "text": [
      "A derivada de f(x) é -6*x*(4 - x**2)**2\n"
     ]
    }
   ],
   "source": [
    "f = (4 - x**2)**3\n",
    "dy_dx = sympy.diff(f,x)\n",
    "print(f'A derivada de f(x) é {dy_dx}')"
   ]
  },
  {
   "cell_type": "code",
   "execution_count": 11,
   "id": "1438263f",
   "metadata": {},
   "outputs": [
    {
     "name": "stdout",
     "output_type": "stream",
     "text": [
      "O valor da integral é F = 2\n"
     ]
    }
   ],
   "source": [
    "# exemplo 1 de integração\n",
    "f = x\n",
    "F = sympy.integrate(f, (x, 0, 2))\n",
    "print(f'O valor da integral é F = {F}')"
   ]
  },
  {
   "cell_type": "code",
   "execution_count": 12,
   "id": "0c04a175",
   "metadata": {},
   "outputs": [
    {
     "name": "stdout",
     "output_type": "stream",
     "text": [
      "O valor da integral é F = -4/3\n"
     ]
    }
   ],
   "source": [
    "# exemplo 2 de integração\n",
    "f = x**3 - 2*x**2 + 4*x\n",
    "F = sympy.integrate(f, (x, -1, 1))\n",
    "print(f'O valor da integral é F = {F}')"
   ]
  },
  {
   "cell_type": "code",
   "execution_count": 13,
   "id": "7e23e5c2",
   "metadata": {},
   "outputs": [
    {
     "name": "stdout",
     "output_type": "stream",
     "text": [
      "O valor da integral é F = 21.9809706208743\n"
     ]
    }
   ],
   "source": [
    "# exemplo 3 de integração\n",
    "f = x **(np.pi-1)\n",
    "F = sympy.integrate(f, (x, 2, 4))\n",
    "print(f'O valor da integral é F = {F}')"
   ]
  },
  {
   "cell_type": "code",
   "execution_count": 14,
   "id": "0f24ab61",
   "metadata": {},
   "outputs": [
    {
     "name": "stdout",
     "output_type": "stream",
     "text": [
      "O valor da integral é F = -exp(-1) + exp(-2) + log(2)\n"
     ]
    }
   ],
   "source": [
    "# exemplo 4 de integração\n",
    "f = ( 1/ x - sympy.exp(-x) )\n",
    "F = sympy.integrate(f, (x, 1, 2))\n",
    "print(f'O valor da integral é F = {F}')"
   ]
  },
  {
   "cell_type": "code",
   "execution_count": 16,
   "id": "74343ad0",
   "metadata": {},
   "outputs": [
    {
     "name": "stdout",
     "output_type": "stream",
     "text": [
      "O valor da integral é F = log(x) + exp(-x)\n"
     ]
    }
   ],
   "source": [
    "# exemplo de integração não definida\n",
    "f = ( 1/ x - sympy.exp(-x) )\n",
    "F = sympy.integrate(f, x)\n",
    "print(f'O valor da integral é F = {F}')"
   ]
  },
  {
   "cell_type": "code",
   "execution_count": null,
   "id": "f1edda18",
   "metadata": {},
   "outputs": [],
   "source": []
  }
 ],
 "metadata": {
  "kernelspec": {
   "display_name": "Python 3 (ipykernel)",
   "language": "python",
   "name": "python3"
  },
  "language_info": {
   "codemirror_mode": {
    "name": "ipython",
    "version": 3
   },
   "file_extension": ".py",
   "mimetype": "text/x-python",
   "name": "python",
   "nbconvert_exporter": "python",
   "pygments_lexer": "ipython3",
   "version": "3.9.16"
  }
 },
 "nbformat": 4,
 "nbformat_minor": 5
}
