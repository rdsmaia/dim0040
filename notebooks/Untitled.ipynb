{
 "cells": [
  {
   "cell_type": "code",
   "execution_count": 1,
   "id": "6deb8afa",
   "metadata": {},
   "outputs": [],
   "source": [
    "import numpy as np"
   ]
  },
  {
   "cell_type": "code",
   "execution_count": 58,
   "id": "5e95f828",
   "metadata": {},
   "outputs": [],
   "source": [
    "def decomp_lu(A):\n",
    "    assert len(A.shape) == 2, 'Deve ser uma matriz.'\n",
    "    assert A.shape[0] == A.shape[1], 'A matriz deve ser quadrática.'\n",
    "    \n",
    "    n = A.shape[0]\n",
    "\n",
    "    L = np.eye(n)\n",
    "    U = np.zeros(A.shape)\n",
    "    \n",
    "    for i in range(n):\n",
    "        for j in range(n):\n",
    "            if i <= j:\n",
    "                soma = 0\n",
    "                for k in range(i):\n",
    "                    soma += L[i,k] * U[k,j]\n",
    "                U[i,j] = A[i,j] - soma\n",
    "            else:\n",
    "                soma = 0\n",
    "                for k in range(j):\n",
    "                    soma += L[i,k] * U[k,j]\n",
    "                L[i,j] = (A[i,j] - soma) / U[j,j]\n",
    "    return L, U\n",
    "\n",
    "def gauss_simples(A, b):\n",
    "    \n",
    "    assert len(A.shape) == 2, 'Deve ser uma matriz.'\n",
    "    assert A.shape[0] == A.shape[1], 'A matriz deve ser quadrática.'\n",
    "    assert b.shape[0] == A.shape[0]\n",
    "    \n",
    "    n = A.shape[0]\n",
    "    \n",
    "    Ag = np.concatenate((A, b), axis=1)\n",
    "    \n",
    "    print(f'Initially: Ag=\\n{Ag}\\n')\n",
    "        \n",
    "    nsteps = n - 1\n",
    "    for k in range(nsteps):\n",
    "        A_aux = A\n",
    "        b_aux = b\n",
    "        for i in range(k+1,n):\n",
    "            for j in range(k, n):\n",
    "                A_aux[i,j] = A[i,j] - A[k,j] * A[i,k] / A[k,k]\n",
    "            b_aux[i] = b[i] - b[k] * A[i,k] / A[k,k]\n",
    "        Ag = np.concatenate((A_aux, b_aux), axis=1)\n",
    "        print(f'Step {k} ->\\n {Ag}\\n')\n",
    "        A = A_aux\n",
    "        b = b_aux\n",
    "        \n",
    "    return Ag\n"
   ]
  },
  {
   "cell_type": "code",
   "execution_count": 50,
   "id": "60544e0e",
   "metadata": {},
   "outputs": [
    {
     "name": "stdout",
     "output_type": "stream",
     "text": [
      "A=[[5 2 1]\n",
      " [3 1 4]\n",
      " [1 1 3]]\n"
     ]
    }
   ],
   "source": [
    "A = np.array([ [5, 2, 1], [3, 1, 4], [1, 1, 3] ])\n",
    "print(f'A={A}')"
   ]
  },
  {
   "cell_type": "code",
   "execution_count": 51,
   "id": "14238a02",
   "metadata": {},
   "outputs": [
    {
     "name": "stdout",
     "output_type": "stream",
     "text": [
      "L=[[ 1.   0.   0. ]\n",
      " [ 0.6  1.   0. ]\n",
      " [ 0.2 -3.   1. ]]\n",
      "U=[[ 5.   2.   1. ]\n",
      " [ 0.  -0.2  3.4]\n",
      " [ 0.   0.  13. ]]\n",
      "[[5. 2. 1.]\n",
      " [3. 1. 4.]\n",
      " [1. 1. 3.]]\n"
     ]
    }
   ],
   "source": [
    "L,U = decomp_lu(A)\n",
    "print(f'L={L}')\n",
    "print(f'U={U}')\n",
    "print(L @ U)"
   ]
  },
  {
   "cell_type": "code",
   "execution_count": 52,
   "id": "9ac75895",
   "metadata": {},
   "outputs": [
    {
     "data": {
      "text/plain": [
       "array([[ 0],\n",
       "       [-7],\n",
       "       [-5]])"
      ]
     },
     "execution_count": 52,
     "metadata": {},
     "output_type": "execute_result"
    }
   ],
   "source": [
    "b = np.array([ [0], [-7], [-5] ])\n",
    "b"
   ]
  },
  {
   "cell_type": "code",
   "execution_count": 59,
   "id": "eaeccbc2",
   "metadata": {},
   "outputs": [
    {
     "name": "stdout",
     "output_type": "stream",
     "text": [
      "Initially: Ag=\n",
      "[[ 5  2  1  0]\n",
      " [ 0  1  4 -7]\n",
      " [ 0  0  3 -5]]\n",
      "\n",
      "Step 0 ->\n",
      " [[ 5  2  1  0]\n",
      " [ 0  1  4 -7]\n",
      " [ 0  0  3 -5]]\n",
      "\n",
      "Step 1 ->\n",
      " [[ 5  2  1  0]\n",
      " [ 0  1  4 -7]\n",
      " [ 0  0  3 -5]]\n",
      "\n",
      "[[ 5  2  1  0]\n",
      " [ 0  1  4 -7]\n",
      " [ 0  0  3 -5]]\n"
     ]
    }
   ],
   "source": [
    "Ag = gauss_simples(A,b)\n",
    "print(Ag)"
   ]
  },
  {
   "cell_type": "code",
   "execution_count": null,
   "id": "a56e42b9",
   "metadata": {},
   "outputs": [],
   "source": []
  }
 ],
 "metadata": {
  "kernelspec": {
   "display_name": "Python 3 (ipykernel)",
   "language": "python",
   "name": "python3"
  },
  "language_info": {
   "codemirror_mode": {
    "name": "ipython",
    "version": 3
   },
   "file_extension": ".py",
   "mimetype": "text/x-python",
   "name": "python",
   "nbconvert_exporter": "python",
   "pygments_lexer": "ipython3",
   "version": "3.9.12"
  }
 },
 "nbformat": 4,
 "nbformat_minor": 5
}
